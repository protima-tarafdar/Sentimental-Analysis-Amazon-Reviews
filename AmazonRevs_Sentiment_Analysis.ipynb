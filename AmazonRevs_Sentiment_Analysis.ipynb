{
  "nbformat": 4,
  "nbformat_minor": 0,
  "metadata": {
    "colab": {
      "provenance": [],
      "toc_visible": true
    },
    "kernelspec": {
      "name": "python3",
      "display_name": "Python 3"
    },
    "language_info": {
      "name": "python"
    },
    "accelerator": "GPU",
    "gpuClass": "standard"
  },
  "cells": [
    {
      "cell_type": "markdown",
      "source": [
        "##Selecting 50000 rows of data for modeling"
      ],
      "metadata": {
        "id": "WO0uYAY10pxq"
      }
    },
    {
      "cell_type": "code",
      "execution_count": null,
      "metadata": {
        "id": "L8oz1QPDgGq9"
      },
      "outputs": [],
      "source": [
        "import pandas as pd\n",
        "import numpy as np"
      ]
    },
    {
      "cell_type": "code",
      "source": [
        "from google.colab import drive\n",
        "drive.mount('/content/drive')"
      ],
      "metadata": {
        "colab": {
          "base_uri": "https://localhost:8080/"
        },
        "id": "qOfxCcZ_teMa",
        "outputId": "46cfced5-95e3-4879-c5ae-9a1786646523"
      },
      "execution_count": null,
      "outputs": [
        {
          "output_type": "stream",
          "name": "stdout",
          "text": [
            "Mounted at /content/drive\n"
          ]
        }
      ]
    },
    {
      "cell_type": "code",
      "source": [
        "df_full = pd.read_csv(\"/content/drive/MyDrive/Modern AI Project/amazon_reviews_us_Beauty_v1_00.tsv\", sep = \"\\t\", on_bad_lines='skip')\n"
      ],
      "metadata": {
        "id": "_HByP5lSgWhA",
        "colab": {
          "base_uri": "https://localhost:8080/",
          "height": 381
        },
        "outputId": "842a29d0-aeed-426d-b284-9c41a53869f3"
      },
      "execution_count": null,
      "outputs": [
        {
          "output_type": "error",
          "ename": "ValueError",
          "evalue": "ignored",
          "traceback": [
            "\u001b[0;31m---------------------------------------------------------------------------\u001b[0m",
            "\u001b[0;31mValueError\u001b[0m                                Traceback (most recent call last)",
            "\u001b[0;32m<ipython-input-5-5caedf2b643f>\u001b[0m in \u001b[0;36m<cell line: 2>\u001b[0;34m()\u001b[0m\n\u001b[1;32m      1\u001b[0m \u001b[0;31m#df_full = pd.read_csv(\"/content/drive/MyDrive/Modern AI Project/amazon_reviews_us_Beauty_v1_00.tsv\", sep = \"\\t\", on_bad_lines='skip')\u001b[0m\u001b[0;34m\u001b[0m\u001b[0;34m\u001b[0m\u001b[0m\n\u001b[0;32m----> 2\u001b[0;31m \u001b[0mdf_full\u001b[0m \u001b[0;34m=\u001b[0m \u001b[0mpd\u001b[0m\u001b[0;34m.\u001b[0m\u001b[0mread_csv\u001b[0m\u001b[0;34m(\u001b[0m\u001b[0;34m\"/content/drive/MyDrive/amazon_reviews_us_Beauty_v1_00.tsv.zip\"\u001b[0m\u001b[0;34m,\u001b[0m \u001b[0msep\u001b[0m \u001b[0;34m=\u001b[0m \u001b[0;34m\"\\t\"\u001b[0m\u001b[0;34m,\u001b[0m \u001b[0mon_bad_lines\u001b[0m\u001b[0;34m=\u001b[0m\u001b[0;34m'skip'\u001b[0m\u001b[0;34m)\u001b[0m\u001b[0;34m\u001b[0m\u001b[0;34m\u001b[0m\u001b[0m\n\u001b[0m",
            "\u001b[0;32m/usr/local/lib/python3.10/dist-packages/pandas/util/_decorators.py\u001b[0m in \u001b[0;36mwrapper\u001b[0;34m(*args, **kwargs)\u001b[0m\n\u001b[1;32m    209\u001b[0m                 \u001b[0;32melse\u001b[0m\u001b[0;34m:\u001b[0m\u001b[0;34m\u001b[0m\u001b[0;34m\u001b[0m\u001b[0m\n\u001b[1;32m    210\u001b[0m                     \u001b[0mkwargs\u001b[0m\u001b[0;34m[\u001b[0m\u001b[0mnew_arg_name\u001b[0m\u001b[0;34m]\u001b[0m \u001b[0;34m=\u001b[0m \u001b[0mnew_arg_value\u001b[0m\u001b[0;34m\u001b[0m\u001b[0;34m\u001b[0m\u001b[0m\n\u001b[0;32m--> 211\u001b[0;31m             \u001b[0;32mreturn\u001b[0m \u001b[0mfunc\u001b[0m\u001b[0;34m(\u001b[0m\u001b[0;34m*\u001b[0m\u001b[0margs\u001b[0m\u001b[0;34m,\u001b[0m \u001b[0;34m**\u001b[0m\u001b[0mkwargs\u001b[0m\u001b[0;34m)\u001b[0m\u001b[0;34m\u001b[0m\u001b[0;34m\u001b[0m\u001b[0m\n\u001b[0m\u001b[1;32m    212\u001b[0m \u001b[0;34m\u001b[0m\u001b[0m\n\u001b[1;32m    213\u001b[0m         \u001b[0;32mreturn\u001b[0m \u001b[0mcast\u001b[0m\u001b[0;34m(\u001b[0m\u001b[0mF\u001b[0m\u001b[0;34m,\u001b[0m \u001b[0mwrapper\u001b[0m\u001b[0;34m)\u001b[0m\u001b[0;34m\u001b[0m\u001b[0;34m\u001b[0m\u001b[0m\n",
            "\u001b[0;32m/usr/local/lib/python3.10/dist-packages/pandas/util/_decorators.py\u001b[0m in \u001b[0;36mwrapper\u001b[0;34m(*args, **kwargs)\u001b[0m\n\u001b[1;32m    329\u001b[0m                     \u001b[0mstacklevel\u001b[0m\u001b[0;34m=\u001b[0m\u001b[0mfind_stack_level\u001b[0m\u001b[0;34m(\u001b[0m\u001b[0;34m)\u001b[0m\u001b[0;34m,\u001b[0m\u001b[0;34m\u001b[0m\u001b[0;34m\u001b[0m\u001b[0m\n\u001b[1;32m    330\u001b[0m                 )\n\u001b[0;32m--> 331\u001b[0;31m             \u001b[0;32mreturn\u001b[0m \u001b[0mfunc\u001b[0m\u001b[0;34m(\u001b[0m\u001b[0;34m*\u001b[0m\u001b[0margs\u001b[0m\u001b[0;34m,\u001b[0m \u001b[0;34m**\u001b[0m\u001b[0mkwargs\u001b[0m\u001b[0;34m)\u001b[0m\u001b[0;34m\u001b[0m\u001b[0;34m\u001b[0m\u001b[0m\n\u001b[0m\u001b[1;32m    332\u001b[0m \u001b[0;34m\u001b[0m\u001b[0m\n\u001b[1;32m    333\u001b[0m         \u001b[0;31m# error: \"Callable[[VarArg(Any), KwArg(Any)], Any]\" has no\u001b[0m\u001b[0;34m\u001b[0m\u001b[0;34m\u001b[0m\u001b[0m\n",
            "\u001b[0;32m/usr/local/lib/python3.10/dist-packages/pandas/io/parsers/readers.py\u001b[0m in \u001b[0;36mread_csv\u001b[0;34m(filepath_or_buffer, sep, delimiter, header, names, index_col, usecols, squeeze, prefix, mangle_dupe_cols, dtype, engine, converters, true_values, false_values, skipinitialspace, skiprows, skipfooter, nrows, na_values, keep_default_na, na_filter, verbose, skip_blank_lines, parse_dates, infer_datetime_format, keep_date_col, date_parser, dayfirst, cache_dates, iterator, chunksize, compression, thousands, decimal, lineterminator, quotechar, quoting, doublequote, escapechar, comment, encoding, encoding_errors, dialect, error_bad_lines, warn_bad_lines, on_bad_lines, delim_whitespace, low_memory, memory_map, float_precision, storage_options)\u001b[0m\n\u001b[1;32m    948\u001b[0m     \u001b[0mkwds\u001b[0m\u001b[0;34m.\u001b[0m\u001b[0mupdate\u001b[0m\u001b[0;34m(\u001b[0m\u001b[0mkwds_defaults\u001b[0m\u001b[0;34m)\u001b[0m\u001b[0;34m\u001b[0m\u001b[0;34m\u001b[0m\u001b[0m\n\u001b[1;32m    949\u001b[0m \u001b[0;34m\u001b[0m\u001b[0m\n\u001b[0;32m--> 950\u001b[0;31m     \u001b[0;32mreturn\u001b[0m \u001b[0m_read\u001b[0m\u001b[0;34m(\u001b[0m\u001b[0mfilepath_or_buffer\u001b[0m\u001b[0;34m,\u001b[0m \u001b[0mkwds\u001b[0m\u001b[0;34m)\u001b[0m\u001b[0;34m\u001b[0m\u001b[0;34m\u001b[0m\u001b[0m\n\u001b[0m\u001b[1;32m    951\u001b[0m \u001b[0;34m\u001b[0m\u001b[0m\n\u001b[1;32m    952\u001b[0m \u001b[0;34m\u001b[0m\u001b[0m\n",
            "\u001b[0;32m/usr/local/lib/python3.10/dist-packages/pandas/io/parsers/readers.py\u001b[0m in \u001b[0;36m_read\u001b[0;34m(filepath_or_buffer, kwds)\u001b[0m\n\u001b[1;32m    603\u001b[0m \u001b[0;34m\u001b[0m\u001b[0m\n\u001b[1;32m    604\u001b[0m     \u001b[0;31m# Create the parser.\u001b[0m\u001b[0;34m\u001b[0m\u001b[0;34m\u001b[0m\u001b[0m\n\u001b[0;32m--> 605\u001b[0;31m     \u001b[0mparser\u001b[0m \u001b[0;34m=\u001b[0m \u001b[0mTextFileReader\u001b[0m\u001b[0;34m(\u001b[0m\u001b[0mfilepath_or_buffer\u001b[0m\u001b[0;34m,\u001b[0m \u001b[0;34m**\u001b[0m\u001b[0mkwds\u001b[0m\u001b[0;34m)\u001b[0m\u001b[0;34m\u001b[0m\u001b[0;34m\u001b[0m\u001b[0m\n\u001b[0m\u001b[1;32m    606\u001b[0m \u001b[0;34m\u001b[0m\u001b[0m\n\u001b[1;32m    607\u001b[0m     \u001b[0;32mif\u001b[0m \u001b[0mchunksize\u001b[0m \u001b[0;32mor\u001b[0m \u001b[0miterator\u001b[0m\u001b[0;34m:\u001b[0m\u001b[0;34m\u001b[0m\u001b[0;34m\u001b[0m\u001b[0m\n",
            "\u001b[0;32m/usr/local/lib/python3.10/dist-packages/pandas/io/parsers/readers.py\u001b[0m in \u001b[0;36m__init__\u001b[0;34m(self, f, engine, **kwds)\u001b[0m\n\u001b[1;32m   1440\u001b[0m \u001b[0;34m\u001b[0m\u001b[0m\n\u001b[1;32m   1441\u001b[0m         \u001b[0mself\u001b[0m\u001b[0;34m.\u001b[0m\u001b[0mhandles\u001b[0m\u001b[0;34m:\u001b[0m \u001b[0mIOHandles\u001b[0m \u001b[0;34m|\u001b[0m \u001b[0;32mNone\u001b[0m \u001b[0;34m=\u001b[0m \u001b[0;32mNone\u001b[0m\u001b[0;34m\u001b[0m\u001b[0;34m\u001b[0m\u001b[0m\n\u001b[0;32m-> 1442\u001b[0;31m         \u001b[0mself\u001b[0m\u001b[0;34m.\u001b[0m\u001b[0m_engine\u001b[0m \u001b[0;34m=\u001b[0m \u001b[0mself\u001b[0m\u001b[0;34m.\u001b[0m\u001b[0m_make_engine\u001b[0m\u001b[0;34m(\u001b[0m\u001b[0mf\u001b[0m\u001b[0;34m,\u001b[0m \u001b[0mself\u001b[0m\u001b[0;34m.\u001b[0m\u001b[0mengine\u001b[0m\u001b[0;34m)\u001b[0m\u001b[0;34m\u001b[0m\u001b[0;34m\u001b[0m\u001b[0m\n\u001b[0m\u001b[1;32m   1443\u001b[0m \u001b[0;34m\u001b[0m\u001b[0m\n\u001b[1;32m   1444\u001b[0m     \u001b[0;32mdef\u001b[0m \u001b[0mclose\u001b[0m\u001b[0;34m(\u001b[0m\u001b[0mself\u001b[0m\u001b[0;34m)\u001b[0m \u001b[0;34m->\u001b[0m \u001b[0;32mNone\u001b[0m\u001b[0;34m:\u001b[0m\u001b[0;34m\u001b[0m\u001b[0;34m\u001b[0m\u001b[0m\n",
            "\u001b[0;32m/usr/local/lib/python3.10/dist-packages/pandas/io/parsers/readers.py\u001b[0m in \u001b[0;36m_make_engine\u001b[0;34m(self, f, engine)\u001b[0m\n\u001b[1;32m   1733\u001b[0m                 \u001b[0;32mif\u001b[0m \u001b[0;34m\"b\"\u001b[0m \u001b[0;32mnot\u001b[0m \u001b[0;32min\u001b[0m \u001b[0mmode\u001b[0m\u001b[0;34m:\u001b[0m\u001b[0;34m\u001b[0m\u001b[0;34m\u001b[0m\u001b[0m\n\u001b[1;32m   1734\u001b[0m                     \u001b[0mmode\u001b[0m \u001b[0;34m+=\u001b[0m \u001b[0;34m\"b\"\u001b[0m\u001b[0;34m\u001b[0m\u001b[0;34m\u001b[0m\u001b[0m\n\u001b[0;32m-> 1735\u001b[0;31m             self.handles = get_handle(\n\u001b[0m\u001b[1;32m   1736\u001b[0m                 \u001b[0mf\u001b[0m\u001b[0;34m,\u001b[0m\u001b[0;34m\u001b[0m\u001b[0;34m\u001b[0m\u001b[0m\n\u001b[1;32m   1737\u001b[0m                 \u001b[0mmode\u001b[0m\u001b[0;34m,\u001b[0m\u001b[0;34m\u001b[0m\u001b[0;34m\u001b[0m\u001b[0m\n",
            "\u001b[0;32m/usr/local/lib/python3.10/dist-packages/pandas/io/common.py\u001b[0m in \u001b[0;36mget_handle\u001b[0;34m(path_or_buf, mode, encoding, compression, memory_map, is_text, errors, storage_options)\u001b[0m\n\u001b[1;32m    788\u001b[0m                     \u001b[0;32mraise\u001b[0m \u001b[0mValueError\u001b[0m\u001b[0;34m(\u001b[0m\u001b[0;34mf\"Zero files found in ZIP file {path_or_buf}\"\u001b[0m\u001b[0;34m)\u001b[0m\u001b[0;34m\u001b[0m\u001b[0;34m\u001b[0m\u001b[0m\n\u001b[1;32m    789\u001b[0m                 \u001b[0;32melse\u001b[0m\u001b[0;34m:\u001b[0m\u001b[0;34m\u001b[0m\u001b[0;34m\u001b[0m\u001b[0m\n\u001b[0;32m--> 790\u001b[0;31m                     raise ValueError(\n\u001b[0m\u001b[1;32m    791\u001b[0m                         \u001b[0;34m\"Multiple files found in ZIP file. \"\u001b[0m\u001b[0;34m\u001b[0m\u001b[0;34m\u001b[0m\u001b[0m\n\u001b[1;32m    792\u001b[0m                         \u001b[0;34mf\"Only one file per ZIP: {zip_names}\"\u001b[0m\u001b[0;34m\u001b[0m\u001b[0;34m\u001b[0m\u001b[0m\n",
            "\u001b[0;31mValueError\u001b[0m: Multiple files found in ZIP file. Only one file per ZIP: ['amazon_reviews_us_Beauty_v1_00.tsv', '__MACOSX/._amazon_reviews_us_Beauty_v1_00.tsv']"
          ]
        }
      ]
    },
    {
      "cell_type": "code",
      "source": [
        "#labeling the columns\n",
        "df_full.columns = ['marketplace', 'customer_id', 'review_id', 'product_id', 'product_parent', 'product_title', 'product_category', 'star_rating',\n",
        "            'helpful_votes', 'total_votes', 'vine', 'verified_purchase', 'review_headline', 'review_body', 'review_date']\n",
        "\n",
        "print(df_full.head())"
      ],
      "metadata": {
        "colab": {
          "base_uri": "https://localhost:8080/"
        },
        "id": "enmS3guzuz1u",
        "outputId": "f049eca1-c803-49b0-c944-6e517a68c333"
      },
      "execution_count": null,
      "outputs": [
        {
          "output_type": "stream",
          "name": "stdout",
          "text": [
            "  marketplace  customer_id       review_id  product_id  product_parent  \\\n",
            "0          US      1797882  R3I2DHQBR577SS  B001ANOOOE         2102612   \n",
            "1          US     18381298  R1QNE9NQFJC2Y4  B0016J22EQ       106393691   \n",
            "2          US     19242472  R3LIDG2Q4LJBAO  B00HU6UQAG       375449471   \n",
            "3          US     19551372  R3KSZHPAEVPEAL  B002HWS7RM       255651889   \n",
            "4          US     14802407   RAI2OIG50KZ43  B00SM99KWU       116158747   \n",
            "\n",
            "                                       product_title product_category  \\\n",
            "0  The Naked Bee Vitmin C Moisturizing Sunscreen ...           Beauty   \n",
            "1      Alba Botanica Sunless Tanning Lotion, 4 Ounce           Beauty   \n",
            "2          Elysee Infusion Skin Therapy Elixir, 2oz.           Beauty   \n",
            "3  Diane D722 Color, Perm And Conditioner Process...           Beauty   \n",
            "4  Biore UV Aqua Rich Watery Essence SPF50+/PA+++...           Beauty   \n",
            "\n",
            "  star_rating  helpful_votes  total_votes vine verified_purchase  \\\n",
            "0           5            0.0          0.0    N                 Y   \n",
            "1           5            0.0          0.0    N                 Y   \n",
            "2           5            0.0          0.0    N                 Y   \n",
            "3           5            0.0          0.0    N                 Y   \n",
            "4           5            0.0          0.0    N                 Y   \n",
            "\n",
            "                                     review_headline  \\\n",
            "0                                         Five Stars   \n",
            "1                          Thank you Alba Bontanica!   \n",
            "2                                         Five Stars   \n",
            "3                                         GOOD DEAL!   \n",
            "4  this soaks in quick and provides a nice base f...   \n",
            "\n",
            "                                         review_body review_date  \n",
            "0                   Love this, excellent sun block!!  2015-08-31  \n",
            "1  The great thing about this cream is that it do...  2015-08-31  \n",
            "2  Great Product, I'm 65 years old and this is al...  2015-08-31  \n",
            "3  I use them as shower caps & conditioning caps....  2015-08-31  \n",
            "4  This is my go-to daily sunblock. It leaves no ...  2015-08-31  \n"
          ]
        }
      ]
    },
    {
      "cell_type": "code",
      "source": [
        "# set the random seed for replicability\n",
        "np.random.seed(47)\n",
        "\n",
        "# randomly select 500000 row indices (excluding the first row)\n",
        "subset_indices = np.random.choice(df_full.index[1:], size=500000, replace=False)\n",
        "\n",
        "# add the first row to the subset\n",
        "subset_indices = np.concatenate(([0], subset_indices))\n",
        "\n",
        "# select the subset of rows and shuffle them\n",
        "df = df_full.loc[subset_indices].sample(frac=1)\n",
        "\n",
        "# write the subset to a new CSV file\n",
        "df.to_csv('df.csv', index=False)\n"
      ],
      "metadata": {
        "id": "hPWLTXLZ8xH-"
      },
      "execution_count": null,
      "outputs": []
    },
    {
      "cell_type": "code",
      "source": [
        "df = pd.read_csv(\"df.csv\")"
      ],
      "metadata": {
        "colab": {
          "base_uri": "https://localhost:8080/"
        },
        "id": "sBQbjkGLCwJg",
        "outputId": "a64dcc4f-43b3-4719-b74e-d72e5b47ae59"
      },
      "execution_count": null,
      "outputs": [
        {
          "output_type": "stream",
          "name": "stderr",
          "text": [
            "<ipython-input-13-13453a00227b>:1: DtypeWarning: Columns (1,4,7,8,9) have mixed types. Specify dtype option on import or set low_memory=False.\n",
            "  df = pd.read_csv(\"df.csv\")\n"
          ]
        }
      ]
    },
    {
      "cell_type": "code",
      "source": [
        "df.head()"
      ],
      "metadata": {
        "colab": {
          "base_uri": "https://localhost:8080/",
          "height": 565
        },
        "id": "2eXiwzVK8_kh",
        "outputId": "751bb860-9b9d-4cbc-974a-e20262103301"
      },
      "execution_count": null,
      "outputs": [
        {
          "output_type": "execute_result",
          "data": {
            "text/plain": [
              "  marketplace customer_id       review_id  product_id product_parent  \\\n",
              "0          US     2144007  R2NXX2SOXDCAIL  B000TBW0NA      854096552   \n",
              "1          US    23496484  R21HIXCSP7ZP6N  B00GQJR25A      256600215   \n",
              "2          US    50297424  R1YU6KE8MVMSAY  B010QXBXGU      261586866   \n",
              "3          US    20926165  R3POM2E1YTWWE8  B001TESDY6      808594229   \n",
              "4          US      930288  R2GAXR297KRXWM  B00DY860G8      541993171   \n",
              "\n",
              "                                       product_title product_category  \\\n",
              "0  Opi Avoplex Nail and Cuticle Replenishing Oil,...           Beauty   \n",
              "1                               PuffCuff Original 5\"           Beauty   \n",
              "2  Hot Cold Unscented Eye Pillow and Free Eye Mas...           Beauty   \n",
              "3  Advanced Revitalift Anti-Aging Glycolic Mini-P...           Beauty   \n",
              "4  Joico Smooth Cure Shampoo & Conditioner For Cu...           Beauty   \n",
              "\n",
              "  star_rating helpful_votes total_votes vine verified_purchase  \\\n",
              "0           5           2.0         2.0    N                 Y   \n",
              "1           5           0.0         1.0    N                 Y   \n",
              "2           5           0.0         0.0    N                 N   \n",
              "3           5           0.0         0.0    N                 Y   \n",
              "4         3.0           0.0         0.0    N                 N   \n",
              "\n",
              "                                     review_headline  \\\n",
              "0                                         Five Stars   \n",
              "1                                      great product   \n",
              "2  ... this for the past few days and it works gr...   \n",
              "3                                     It is the best   \n",
              "4                                      Leaves a film   \n",
              "\n",
              "                                         review_body review_date  \n",
              "0           I love it!! My nails are really growing!  2015-08-04  \n",
              "1  Perfect for my hair. Works great. I gather my ...  2015-04-12  \n",
              "2  I have been using this for the past few days a...  2015-08-24  \n",
              "3  When they stopped selling it in stores my hear...  2013-07-02  \n",
              "4  I don't know whether it's the shampoo or condi...  2014-11-11  "
            ],
            "text/html": [
              "\n",
              "  <div id=\"df-ed84bb3c-ac40-4798-adcb-3ed542131e65\">\n",
              "    <div class=\"colab-df-container\">\n",
              "      <div>\n",
              "<style scoped>\n",
              "    .dataframe tbody tr th:only-of-type {\n",
              "        vertical-align: middle;\n",
              "    }\n",
              "\n",
              "    .dataframe tbody tr th {\n",
              "        vertical-align: top;\n",
              "    }\n",
              "\n",
              "    .dataframe thead th {\n",
              "        text-align: right;\n",
              "    }\n",
              "</style>\n",
              "<table border=\"1\" class=\"dataframe\">\n",
              "  <thead>\n",
              "    <tr style=\"text-align: right;\">\n",
              "      <th></th>\n",
              "      <th>marketplace</th>\n",
              "      <th>customer_id</th>\n",
              "      <th>review_id</th>\n",
              "      <th>product_id</th>\n",
              "      <th>product_parent</th>\n",
              "      <th>product_title</th>\n",
              "      <th>product_category</th>\n",
              "      <th>star_rating</th>\n",
              "      <th>helpful_votes</th>\n",
              "      <th>total_votes</th>\n",
              "      <th>vine</th>\n",
              "      <th>verified_purchase</th>\n",
              "      <th>review_headline</th>\n",
              "      <th>review_body</th>\n",
              "      <th>review_date</th>\n",
              "    </tr>\n",
              "  </thead>\n",
              "  <tbody>\n",
              "    <tr>\n",
              "      <th>0</th>\n",
              "      <td>US</td>\n",
              "      <td>2144007</td>\n",
              "      <td>R2NXX2SOXDCAIL</td>\n",
              "      <td>B000TBW0NA</td>\n",
              "      <td>854096552</td>\n",
              "      <td>Opi Avoplex Nail and Cuticle Replenishing Oil,...</td>\n",
              "      <td>Beauty</td>\n",
              "      <td>5</td>\n",
              "      <td>2.0</td>\n",
              "      <td>2.0</td>\n",
              "      <td>N</td>\n",
              "      <td>Y</td>\n",
              "      <td>Five Stars</td>\n",
              "      <td>I love it!! My nails are really growing!</td>\n",
              "      <td>2015-08-04</td>\n",
              "    </tr>\n",
              "    <tr>\n",
              "      <th>1</th>\n",
              "      <td>US</td>\n",
              "      <td>23496484</td>\n",
              "      <td>R21HIXCSP7ZP6N</td>\n",
              "      <td>B00GQJR25A</td>\n",
              "      <td>256600215</td>\n",
              "      <td>PuffCuff Original 5\"</td>\n",
              "      <td>Beauty</td>\n",
              "      <td>5</td>\n",
              "      <td>0.0</td>\n",
              "      <td>1.0</td>\n",
              "      <td>N</td>\n",
              "      <td>Y</td>\n",
              "      <td>great product</td>\n",
              "      <td>Perfect for my hair. Works great. I gather my ...</td>\n",
              "      <td>2015-04-12</td>\n",
              "    </tr>\n",
              "    <tr>\n",
              "      <th>2</th>\n",
              "      <td>US</td>\n",
              "      <td>50297424</td>\n",
              "      <td>R1YU6KE8MVMSAY</td>\n",
              "      <td>B010QXBXGU</td>\n",
              "      <td>261586866</td>\n",
              "      <td>Hot Cold Unscented Eye Pillow and Free Eye Mas...</td>\n",
              "      <td>Beauty</td>\n",
              "      <td>5</td>\n",
              "      <td>0.0</td>\n",
              "      <td>0.0</td>\n",
              "      <td>N</td>\n",
              "      <td>N</td>\n",
              "      <td>... this for the past few days and it works gr...</td>\n",
              "      <td>I have been using this for the past few days a...</td>\n",
              "      <td>2015-08-24</td>\n",
              "    </tr>\n",
              "    <tr>\n",
              "      <th>3</th>\n",
              "      <td>US</td>\n",
              "      <td>20926165</td>\n",
              "      <td>R3POM2E1YTWWE8</td>\n",
              "      <td>B001TESDY6</td>\n",
              "      <td>808594229</td>\n",
              "      <td>Advanced Revitalift Anti-Aging Glycolic Mini-P...</td>\n",
              "      <td>Beauty</td>\n",
              "      <td>5</td>\n",
              "      <td>0.0</td>\n",
              "      <td>0.0</td>\n",
              "      <td>N</td>\n",
              "      <td>Y</td>\n",
              "      <td>It is the best</td>\n",
              "      <td>When they stopped selling it in stores my hear...</td>\n",
              "      <td>2013-07-02</td>\n",
              "    </tr>\n",
              "    <tr>\n",
              "      <th>4</th>\n",
              "      <td>US</td>\n",
              "      <td>930288</td>\n",
              "      <td>R2GAXR297KRXWM</td>\n",
              "      <td>B00DY860G8</td>\n",
              "      <td>541993171</td>\n",
              "      <td>Joico Smooth Cure Shampoo &amp; Conditioner For Cu...</td>\n",
              "      <td>Beauty</td>\n",
              "      <td>3.0</td>\n",
              "      <td>0.0</td>\n",
              "      <td>0.0</td>\n",
              "      <td>N</td>\n",
              "      <td>N</td>\n",
              "      <td>Leaves a film</td>\n",
              "      <td>I don't know whether it's the shampoo or condi...</td>\n",
              "      <td>2014-11-11</td>\n",
              "    </tr>\n",
              "  </tbody>\n",
              "</table>\n",
              "</div>\n",
              "      <button class=\"colab-df-convert\" onclick=\"convertToInteractive('df-ed84bb3c-ac40-4798-adcb-3ed542131e65')\"\n",
              "              title=\"Convert this dataframe to an interactive table.\"\n",
              "              style=\"display:none;\">\n",
              "        \n",
              "  <svg xmlns=\"http://www.w3.org/2000/svg\" height=\"24px\"viewBox=\"0 0 24 24\"\n",
              "       width=\"24px\">\n",
              "    <path d=\"M0 0h24v24H0V0z\" fill=\"none\"/>\n",
              "    <path d=\"M18.56 5.44l.94 2.06.94-2.06 2.06-.94-2.06-.94-.94-2.06-.94 2.06-2.06.94zm-11 1L8.5 8.5l.94-2.06 2.06-.94-2.06-.94L8.5 2.5l-.94 2.06-2.06.94zm10 10l.94 2.06.94-2.06 2.06-.94-2.06-.94-.94-2.06-.94 2.06-2.06.94z\"/><path d=\"M17.41 7.96l-1.37-1.37c-.4-.4-.92-.59-1.43-.59-.52 0-1.04.2-1.43.59L10.3 9.45l-7.72 7.72c-.78.78-.78 2.05 0 2.83L4 21.41c.39.39.9.59 1.41.59.51 0 1.02-.2 1.41-.59l7.78-7.78 2.81-2.81c.8-.78.8-2.07 0-2.86zM5.41 20L4 18.59l7.72-7.72 1.47 1.35L5.41 20z\"/>\n",
              "  </svg>\n",
              "      </button>\n",
              "      \n",
              "  <style>\n",
              "    .colab-df-container {\n",
              "      display:flex;\n",
              "      flex-wrap:wrap;\n",
              "      gap: 12px;\n",
              "    }\n",
              "\n",
              "    .colab-df-convert {\n",
              "      background-color: #E8F0FE;\n",
              "      border: none;\n",
              "      border-radius: 50%;\n",
              "      cursor: pointer;\n",
              "      display: none;\n",
              "      fill: #1967D2;\n",
              "      height: 32px;\n",
              "      padding: 0 0 0 0;\n",
              "      width: 32px;\n",
              "    }\n",
              "\n",
              "    .colab-df-convert:hover {\n",
              "      background-color: #E2EBFA;\n",
              "      box-shadow: 0px 1px 2px rgba(60, 64, 67, 0.3), 0px 1px 3px 1px rgba(60, 64, 67, 0.15);\n",
              "      fill: #174EA6;\n",
              "    }\n",
              "\n",
              "    [theme=dark] .colab-df-convert {\n",
              "      background-color: #3B4455;\n",
              "      fill: #D2E3FC;\n",
              "    }\n",
              "\n",
              "    [theme=dark] .colab-df-convert:hover {\n",
              "      background-color: #434B5C;\n",
              "      box-shadow: 0px 1px 3px 1px rgba(0, 0, 0, 0.15);\n",
              "      filter: drop-shadow(0px 1px 2px rgba(0, 0, 0, 0.3));\n",
              "      fill: #FFFFFF;\n",
              "    }\n",
              "  </style>\n",
              "\n",
              "      <script>\n",
              "        const buttonEl =\n",
              "          document.querySelector('#df-ed84bb3c-ac40-4798-adcb-3ed542131e65 button.colab-df-convert');\n",
              "        buttonEl.style.display =\n",
              "          google.colab.kernel.accessAllowed ? 'block' : 'none';\n",
              "\n",
              "        async function convertToInteractive(key) {\n",
              "          const element = document.querySelector('#df-ed84bb3c-ac40-4798-adcb-3ed542131e65');\n",
              "          const dataTable =\n",
              "            await google.colab.kernel.invokeFunction('convertToInteractive',\n",
              "                                                     [key], {});\n",
              "          if (!dataTable) return;\n",
              "\n",
              "          const docLinkHtml = 'Like what you see? Visit the ' +\n",
              "            '<a target=\"_blank\" href=https://colab.research.google.com/notebooks/data_table.ipynb>data table notebook</a>'\n",
              "            + ' to learn more about interactive tables.';\n",
              "          element.innerHTML = '';\n",
              "          dataTable['output_type'] = 'display_data';\n",
              "          await google.colab.output.renderOutput(dataTable, element);\n",
              "          const docLink = document.createElement('div');\n",
              "          docLink.innerHTML = docLinkHtml;\n",
              "          element.appendChild(docLink);\n",
              "        }\n",
              "      </script>\n",
              "    </div>\n",
              "  </div>\n",
              "  "
            ]
          },
          "metadata": {},
          "execution_count": 15
        }
      ]
    },
    {
      "cell_type": "code",
      "source": [
        "import matplotlib.pyplot as plt"
      ],
      "metadata": {
        "id": "fxJg2jsXsb1U"
      },
      "execution_count": null,
      "outputs": []
    },
    {
      "cell_type": "code",
      "source": [
        "def len_of_str(x):\n",
        "    if type(x) != float:\n",
        "        leng = len(x)\n",
        "    else:\n",
        "        leng = 0\n",
        "    return leng\n",
        "\n",
        "plt.hist(df['review_body'].apply(len_of_str), range=[0, 1000], facecolor='gray', align='mid')\n",
        "\n",
        "# Most reviews are shorter length, we can probably limit the string length to 400 characters and below"
      ],
      "metadata": {
        "colab": {
          "base_uri": "https://localhost:8080/",
          "height": 522
        },
        "id": "GLVEYxwEuUvz",
        "outputId": "09411f82-2509-4bd5-a467-2ff27919b8e1"
      },
      "execution_count": null,
      "outputs": [
        {
          "output_type": "execute_result",
          "data": {
            "text/plain": [
              "(array([156436., 150294.,  67958.,  39254.,  24626.,  16428.,  11101.,\n",
              "          7746.,   5692.,   4300.]),\n",
              " array([   0.,  100.,  200.,  300.,  400.,  500.,  600.,  700.,  800.,\n",
              "         900., 1000.]),\n",
              " <BarContainer object of 10 artists>)"
            ]
          },
          "metadata": {},
          "execution_count": 17
        },
        {
          "output_type": "display_data",
          "data": {
            "text/plain": [
              "<Figure size 640x480 with 1 Axes>"
            ],
            "image/png": "[encoded data removed]"
          },
          "metadata": {}
        }
      ]
    },
    {
      "cell_type": "code",
      "source": [
        "df.nunique()"
      ],
      "metadata": {
        "colab": {
          "base_uri": "https://localhost:8080/"
        },
        "id": "1MxuKI3VCDSs",
        "outputId": "a87ae4fa-fef4-4214-b09a-c5902e8729d0"
      },
      "execution_count": null,
      "outputs": [
        {
          "output_type": "execute_result",
          "data": {
            "text/plain": [
              "marketplace               2\n",
              "customer_id          445468\n",
              "review_id            500001\n",
              "product_id           167412\n",
              "product_parent       173952\n",
              "product_title        151915\n",
              "product_category          6\n",
              "star_rating              18\n",
              "helpful_votes           584\n",
              "total_votes             626\n",
              "vine                      3\n",
              "verified_purchase         3\n",
              "review_headline      276605\n",
              "review_body          469354\n",
              "review_date            4183\n",
              "dtype: int64"
            ]
          },
          "metadata": {},
          "execution_count": 18
        }
      ]
    },
    {
      "cell_type": "code",
      "source": [
        "df['product_category'].unique()"
      ],
      "metadata": {
        "colab": {
          "base_uri": "https://localhost:8080/"
        },
        "id": "mFxg24D6CYtu",
        "outputId": "8b9e9dac-7712-4931-cd2a-2eabd3979d5b"
      },
      "execution_count": null,
      "outputs": [
        {
          "output_type": "execute_result",
          "data": {
            "text/plain": [
              "array(['Beauty',\n",
              "       \"Incredibly over priced for what they claim it can do. The thing is, this shampoo and conditioner behave as nothing more than watered down average shampoo and conditioner, which I strongly believe it is. I have given it ample time, trust me I have and I really wanted it to work. I could go on and on with the specifics as to what is wrong with these products. Such as the email I received from the company stating: &#34;A little bit goes a long way&#34; or, &#34;you can use it as often as you like because it's so gentle.&#34; I really wanted to believe these statements, but it's crap. A little bit does NOT go a long way. No matter how much you use, no matter if your hair is reasonably clean by a day or two or by a bi-weekly cleaning, it clumps in one spot on your scalp and you have to use three to four times the amount you would use with another shampoo, just to get it all the way through your hair. It is just as drying and harsh as a $4.50 bottle of shampoo. The frizz factor of my hair was actually WORSE than in the past when I have used cheap shampoo. People, we're talking bushwoman hair. The conditioner has that typical silicone based conditioner feel that doesn't necessarily DO anything but makes it feel like it is, that is until your hair dries and the effects of the cheapness of the product comes shining through. It's typical of watering down a product, I know this only because I have tried this on numerous occasions in order to try and lessen the harsh effects of my previous shampoos. My advice unfortunately, is to run away from this shampoo and conditioner. Save your money and do some research into natural hair care and make you own shampoo and conditioners. That's what I've done and have never been happier.\",\n",
              "       'product_category',\n",
              "       'If you wear this scent, women will hunt you down like a pack of bloodhounds after a prison escape...',\n",
              "       'Unbelievable!  Can we say, &#34;auto-order?&#34;', '2015-05-13'],\n",
              "      dtype=object)"
            ]
          },
          "metadata": {},
          "execution_count": 19
        }
      ]
    },
    {
      "cell_type": "code",
      "source": [
        "df=df[df['product_category']=='Beauty'].reset_index(drop=True)"
      ],
      "metadata": {
        "id": "6eb1PeocD5Zl"
      },
      "execution_count": null,
      "outputs": []
    },
    {
      "cell_type": "code",
      "source": [
        "df['product_category'].unique()"
      ],
      "metadata": {
        "colab": {
          "base_uri": "https://localhost:8080/"
        },
        "id": "lSzhFN6xD8j6",
        "outputId": "1b1cbf83-f4d6-4187-c98a-ba524ad57ac3"
      },
      "execution_count": null,
      "outputs": [
        {
          "output_type": "execute_result",
          "data": {
            "text/plain": [
              "array(['Beauty'], dtype=object)"
            ]
          },
          "metadata": {},
          "execution_count": 21
        }
      ]
    },
    {
      "cell_type": "code",
      "source": [
        "d1 = df.index[df['product_category'] == '2014-11-05']\n",
        "d2= df.index[df['product_category'] == '2015-02-20']\n",
        "#remove dates from"
      ],
      "metadata": {
        "id": "GwXSx52RwhWF"
      },
      "execution_count": null,
      "outputs": []
    },
    {
      "cell_type": "code",
      "source": [
        "d1"
      ],
      "metadata": {
        "colab": {
          "base_uri": "https://localhost:8080/"
        },
        "id": "-fMRb3rMyPly",
        "outputId": "547b36e1-e986-4bf9-9cbd-08a71d0356bd"
      },
      "execution_count": null,
      "outputs": [
        {
          "output_type": "execute_result",
          "data": {
            "text/plain": [
              "Int64Index([], dtype='int64')"
            ]
          },
          "metadata": {},
          "execution_count": 23
        }
      ]
    },
    {
      "cell_type": "code",
      "source": [
        "d2"
      ],
      "metadata": {
        "colab": {
          "base_uri": "https://localhost:8080/"
        },
        "id": "1JNxC1fMyS2d",
        "outputId": "3adf8bfc-3750-4284-e474-aeab7f352eb9"
      },
      "execution_count": null,
      "outputs": [
        {
          "output_type": "execute_result",
          "data": {
            "text/plain": [
              "Int64Index([], dtype='int64')"
            ]
          },
          "metadata": {},
          "execution_count": 24
        }
      ]
    },
    {
      "cell_type": "code",
      "source": [
        "# df['product_category'] = df['product_category'].replace(['2014-11-05', '2015-02-20'], 'Beauty')"
      ],
      "metadata": {
        "id": "QavM258LxVzB"
      },
      "execution_count": null,
      "outputs": []
    },
    {
      "cell_type": "code",
      "source": [
        "df['star_rating'].unique()"
      ],
      "metadata": {
        "colab": {
          "base_uri": "https://localhost:8080/"
        },
        "id": "kF-FnjmrCg-0",
        "outputId": "36ea79c7-48e8-471a-c25e-644f0a1a52a4"
      },
      "execution_count": null,
      "outputs": [
        {
          "output_type": "execute_result",
          "data": {
            "text/plain": [
              "array(['5', '3.0', '1', '5.0', '4', '3', '4.0', '2', '2.0', '1.0', 5.0,\n",
              "       2.0, 1.0, 4.0, 3.0], dtype=object)"
            ]
          },
          "metadata": {},
          "execution_count": 25
        }
      ]
    },
    {
      "cell_type": "code",
      "source": [
        "df['product_title'] = df['product_title'].astype(str)\n",
        "df['review_body'] = df['review_body'].astype(str)\n",
        "df['review_headline'] = df['review_headline'].astype(str)"
      ],
      "metadata": {
        "id": "7Q48MMhyEJ2S"
      },
      "execution_count": null,
      "outputs": []
    },
    {
      "cell_type": "code",
      "source": [
        "df['star_rating'] = df['star_rating'].astype(float)#float"
      ],
      "metadata": {
        "id": "zeqsHu6yERaf"
      },
      "execution_count": null,
      "outputs": []
    },
    {
      "cell_type": "code",
      "source": [
        "df['star_rating'] = df['star_rating'].astype(int)#float"
      ],
      "metadata": {
        "id": "bcKhiHPZEXwx"
      },
      "execution_count": null,
      "outputs": []
    },
    {
      "cell_type": "code",
      "source": [
        "df.info()"
      ],
      "metadata": {
        "colab": {
          "base_uri": "https://localhost:8080/"
        },
        "id": "x8xpJjTfEbGS",
        "outputId": "24d1c7c0-983e-4a3a-dbb8-ad4dec36d692"
      },
      "execution_count": null,
      "outputs": [
        {
          "output_type": "stream",
          "name": "stdout",
          "text": [
            "<class 'pandas.core.frame.DataFrame'>\n",
            "RangeIndex: 499996 entries, 0 to 499995\n",
            "Data columns (total 15 columns):\n",
            " #   Column             Non-Null Count   Dtype \n",
            "---  ------             --------------   ----- \n",
            " 0   marketplace        499996 non-null  object\n",
            " 1   customer_id        499996 non-null  object\n",
            " 2   review_id          499996 non-null  object\n",
            " 3   product_id         499996 non-null  object\n",
            " 4   product_parent     499996 non-null  object\n",
            " 5   product_title      499996 non-null  object\n",
            " 6   product_category   499996 non-null  object\n",
            " 7   star_rating        499996 non-null  int64 \n",
            " 8   helpful_votes      499996 non-null  object\n",
            " 9   total_votes        499996 non-null  object\n",
            " 10  vine               499996 non-null  object\n",
            " 11  verified_purchase  499996 non-null  object\n",
            " 12  review_headline    499996 non-null  object\n",
            " 13  review_body        499996 non-null  object\n",
            " 14  review_date        499991 non-null  object\n",
            "dtypes: int64(1), object(14)\n",
            "memory usage: 57.2+ MB\n"
          ]
        }
      ]
    },
    {
      "cell_type": "markdown",
      "source": [
        "### DATA CLEANUP PHASE"
      ],
      "metadata": {
        "id": "J9elyAoIynMH"
      }
    },
    {
      "cell_type": "code",
      "source": [
        "import re\n",
        "import string\n",
        "from gensim.parsing.preprocessing import remove_stopwords\n",
        "\n",
        "def clean_text(text):\n",
        "    '''Make text lowercase, remove text in square brackets, remove punctuation and remove words containing numbers.'''\n",
        "    text = text.lower()\n",
        "    text = re.sub('\\[.*?\\]', '', text)\n",
        "    text = re.sub('[%s]' % re.escape(string.punctuation), '', text)\n",
        "    text = re.sub('\\w*\\d\\w*', '', text)\n",
        "    text = re.sub('[‘’“”…]', '', text)\n",
        "    text = re.sub('\\n', '', text)\n",
        "    text = remove_stopwords(text)\n",
        "    return text"
      ],
      "metadata": {
        "id": "pOy4SOOgvTH3"
      },
      "execution_count": null,
      "outputs": []
    },
    {
      "cell_type": "code",
      "source": [
        "df.info()"
      ],
      "metadata": {
        "colab": {
          "base_uri": "https://localhost:8080/"
        },
        "id": "bJ5Qcjum9kSX",
        "outputId": "e8f0557e-1437-4e8d-8236-30dafeef729d"
      },
      "execution_count": null,
      "outputs": [
        {
          "output_type": "stream",
          "name": "stdout",
          "text": [
            "<class 'pandas.core.frame.DataFrame'>\n",
            "RangeIndex: 499996 entries, 0 to 499995\n",
            "Data columns (total 15 columns):\n",
            " #   Column             Non-Null Count   Dtype \n",
            "---  ------             --------------   ----- \n",
            " 0   marketplace        499996 non-null  object\n",
            " 1   customer_id        499996 non-null  object\n",
            " 2   review_id          499996 non-null  object\n",
            " 3   product_id         499996 non-null  object\n",
            " 4   product_parent     499996 non-null  object\n",
            " 5   product_title      499996 non-null  object\n",
            " 6   product_category   499996 non-null  object\n",
            " 7   star_rating        499996 non-null  int64 \n",
            " 8   helpful_votes      499996 non-null  object\n",
            " 9   total_votes        499996 non-null  object\n",
            " 10  vine               499996 non-null  object\n",
            " 11  verified_purchase  499996 non-null  object\n",
            " 12  review_headline    499996 non-null  object\n",
            " 13  review_body        499996 non-null  object\n",
            " 14  review_date        499991 non-null  object\n",
            "dtypes: int64(1), object(14)\n",
            "memory usage: 57.2+ MB\n"
          ]
        }
      ]
    },
    {
      "cell_type": "code",
      "source": [
        "# check for missing values in the 'product_title' column\n",
        "print(df['product_title'].isnull().sum())"
      ],
      "metadata": {
        "colab": {
          "base_uri": "https://localhost:8080/"
        },
        "id": "PO_xgNtu-Vpr",
        "outputId": "19bfe72e-d3f1-44ce-fe97-3d4d1ba5f71c"
      },
      "execution_count": null,
      "outputs": [
        {
          "output_type": "stream",
          "name": "stdout",
          "text": [
            "0\n"
          ]
        }
      ]
    },
    {
      "cell_type": "code",
      "source": [
        "df.isnull().sum()"
      ],
      "metadata": {
        "colab": {
          "base_uri": "https://localhost:8080/"
        },
        "id": "sNZQUmgU-adr",
        "outputId": "e794ad3d-565e-4b1b-dee8-a08d470fa06c"
      },
      "execution_count": null,
      "outputs": [
        {
          "output_type": "execute_result",
          "data": {
            "text/plain": [
              "marketplace          0\n",
              "customer_id          0\n",
              "review_id            0\n",
              "product_id           0\n",
              "product_parent       0\n",
              "product_title        0\n",
              "product_category     0\n",
              "star_rating          0\n",
              "helpful_votes        0\n",
              "total_votes          0\n",
              "vine                 0\n",
              "verified_purchase    0\n",
              "review_headline      0\n",
              "review_body          0\n",
              "review_date          5\n",
              "dtype: int64"
            ]
          },
          "metadata": {},
          "execution_count": 35
        }
      ]
    },
    {
      "cell_type": "code",
      "source": [
        "df.dropna(inplace=True)"
      ],
      "metadata": {
        "id": "-uJlXrL4-jX6"
      },
      "execution_count": null,
      "outputs": []
    },
    {
      "cell_type": "code",
      "source": [
        "df.isnull().sum()"
      ],
      "metadata": {
        "colab": {
          "base_uri": "https://localhost:8080/"
        },
        "id": "thIPuu17-1zz",
        "outputId": "69a16683-b8d9-4510-ef31-97ba69993a6d"
      },
      "execution_count": null,
      "outputs": [
        {
          "output_type": "execute_result",
          "data": {
            "text/plain": [
              "marketplace          0\n",
              "customer_id          0\n",
              "review_id            0\n",
              "product_id           0\n",
              "product_parent       0\n",
              "product_title        0\n",
              "product_category     0\n",
              "star_rating          0\n",
              "helpful_votes        0\n",
              "total_votes          0\n",
              "vine                 0\n",
              "verified_purchase    0\n",
              "review_headline      0\n",
              "review_body          0\n",
              "review_date          0\n",
              "dtype: int64"
            ]
          },
          "metadata": {},
          "execution_count": 37
        }
      ]
    },
    {
      "cell_type": "code",
      "source": [
        "# Applying text cleaning lowercasing and removing punctuation to from all text columns\n",
        "\n",
        "# select only the string columns to be cleaned\n",
        "string_columns = ['product_title', 'review_headline', 'review_body']\n",
        "\n",
        "# apply the clean_text function to all selected columns\n",
        "df[string_columns] = df[string_columns].applymap(clean_text)"
      ],
      "metadata": {
        "id": "-ODnVy02yvGD"
      },
      "execution_count": null,
      "outputs": []
    },
    {
      "cell_type": "code",
      "source": [
        "df.head(2)"
      ],
      "metadata": {
        "colab": {
          "base_uri": "https://localhost:8080/",
          "height": 280
        },
        "id": "mxMgDUf7_F4a",
        "outputId": "6b7feeb7-be97-446b-e6f0-c03d8692ec6d"
      },
      "execution_count": null,
      "outputs": [
        {
          "output_type": "execute_result",
          "data": {
            "text/plain": [
              "  marketplace  customer_id       review_id  product_id  product_parent  \\\n",
              "0          US      2144007  R2NXX2SOXDCAIL  B000TBW0NA       854096552   \n",
              "1          US     23496484  R21HIXCSP7ZP6N  B00GQJR25A       256600215   \n",
              "\n",
              "                                       product_title product_category  \\\n",
              "0  opi avoplex nail cuticle replenishing oil flui...           Beauty   \n",
              "1                                  puffcuff original           Beauty   \n",
              "\n",
              "   star_rating  helpful_votes  total_votes vine verified_purchase  \\\n",
              "0            5            2.0          2.0    N                 Y   \n",
              "1            5            0.0          1.0    N                 Y   \n",
              "\n",
              "  review_headline                                        review_body  \\\n",
              "0           stars                                 love nails growing   \n",
              "1   great product  perfect hair works great gather hair ponytail ...   \n",
              "\n",
              "  review_date  sentiment  \n",
              "0  2015-08-04          1  \n",
              "1  2015-04-12          1  "
            ],
            "text/html": [
              "\n",
              "  <div id=\"df-19fdad47-09cf-46db-b583-801d39190158\">\n",
              "    <div class=\"colab-df-container\">\n",
              "      <div>\n",
              "<style scoped>\n",
              "    .dataframe tbody tr th:only-of-type {\n",
              "        vertical-align: middle;\n",
              "    }\n",
              "\n",
              "    .dataframe tbody tr th {\n",
              "        vertical-align: top;\n",
              "    }\n",
              "\n",
              "    .dataframe thead th {\n",
              "        text-align: right;\n",
              "    }\n",
              "</style>\n",
              "<table border=\"1\" class=\"dataframe\">\n",
              "  <thead>\n",
              "    <tr style=\"text-align: right;\">\n",
              "      <th></th>\n",
              "      <th>marketplace</th>\n",
              "      <th>customer_id</th>\n",
              "      <th>review_id</th>\n",
              "      <th>product_id</th>\n",
              "      <th>product_parent</th>\n",
              "      <th>product_title</th>\n",
              "      <th>product_category</th>\n",
              "      <th>star_rating</th>\n",
              "      <th>helpful_votes</th>\n",
              "      <th>total_votes</th>\n",
              "      <th>vine</th>\n",
              "      <th>verified_purchase</th>\n",
              "      <th>review_headline</th>\n",
              "      <th>review_body</th>\n",
              "      <th>review_date</th>\n",
              "      <th>sentiment</th>\n",
              "    </tr>\n",
              "  </thead>\n",
              "  <tbody>\n",
              "    <tr>\n",
              "      <th>0</th>\n",
              "      <td>US</td>\n",
              "      <td>2144007</td>\n",
              "      <td>R2NXX2SOXDCAIL</td>\n",
              "      <td>B000TBW0NA</td>\n",
              "      <td>854096552</td>\n",
              "      <td>opi avoplex nail cuticle replenishing oil flui...</td>\n",
              "      <td>Beauty</td>\n",
              "      <td>5</td>\n",
              "      <td>2.0</td>\n",
              "      <td>2.0</td>\n",
              "      <td>N</td>\n",
              "      <td>Y</td>\n",
              "      <td>stars</td>\n",
              "      <td>love nails growing</td>\n",
              "      <td>2015-08-04</td>\n",
              "      <td>1</td>\n",
              "    </tr>\n",
              "    <tr>\n",
              "      <th>1</th>\n",
              "      <td>US</td>\n",
              "      <td>23496484</td>\n",
              "      <td>R21HIXCSP7ZP6N</td>\n",
              "      <td>B00GQJR25A</td>\n",
              "      <td>256600215</td>\n",
              "      <td>puffcuff original</td>\n",
              "      <td>Beauty</td>\n",
              "      <td>5</td>\n",
              "      <td>0.0</td>\n",
              "      <td>1.0</td>\n",
              "      <td>N</td>\n",
              "      <td>Y</td>\n",
              "      <td>great product</td>\n",
              "      <td>perfect hair works great gather hair ponytail ...</td>\n",
              "      <td>2015-04-12</td>\n",
              "      <td>1</td>\n",
              "    </tr>\n",
              "  </tbody>\n",
              "</table>\n",
              "</div>\n",
              "      <button class=\"colab-df-convert\" onclick=\"convertToInteractive('df-19fdad47-09cf-46db-b583-801d39190158')\"\n",
              "              title=\"Convert this dataframe to an interactive table.\"\n",
              "              style=\"display:none;\">\n",
              "        \n",
              "  <svg xmlns=\"http://www.w3.org/2000/svg\" height=\"24px\"viewBox=\"0 0 24 24\"\n",
              "       width=\"24px\">\n",
              "    <path d=\"M0 0h24v24H0V0z\" fill=\"none\"/>\n",
              "    <path d=\"M18.56 5.44l.94 2.06.94-2.06 2.06-.94-2.06-.94-.94-2.06-.94 2.06-2.06.94zm-11 1L8.5 8.5l.94-2.06 2.06-.94-2.06-.94L8.5 2.5l-.94 2.06-2.06.94zm10 10l.94 2.06.94-2.06 2.06-.94-2.06-.94-.94-2.06-.94 2.06-2.06.94z\"/><path d=\"M17.41 7.96l-1.37-1.37c-.4-.4-.92-.59-1.43-.59-.52 0-1.04.2-1.43.59L10.3 9.45l-7.72 7.72c-.78.78-.78 2.05 0 2.83L4 21.41c.39.39.9.59 1.41.59.51 0 1.02-.2 1.41-.59l7.78-7.78 2.81-2.81c.8-.78.8-2.07 0-2.86zM5.41 20L4 18.59l7.72-7.72 1.47 1.35L5.41 20z\"/>\n",
              "  </svg>\n",
              "      </button>\n",
              "      \n",
              "  <style>\n",
              "    .colab-df-container {\n",
              "      display:flex;\n",
              "      flex-wrap:wrap;\n",
              "      gap: 12px;\n",
              "    }\n",
              "\n",
              "    .colab-df-convert {\n",
              "      background-color: #E8F0FE;\n",
              "      border: none;\n",
              "      border-radius: 50%;\n",
              "      cursor: pointer;\n",
              "      display: none;\n",
              "      fill: #1967D2;\n",
              "      height: 32px;\n",
              "      padding: 0 0 0 0;\n",
              "      width: 32px;\n",
              "    }\n",
              "\n",
              "    .colab-df-convert:hover {\n",
              "      background-color: #E2EBFA;\n",
              "      box-shadow: 0px 1px 2px rgba(60, 64, 67, 0.3), 0px 1px 3px 1px rgba(60, 64, 67, 0.15);\n",
              "      fill: #174EA6;\n",
              "    }\n",
              "\n",
              "    [theme=dark] .colab-df-convert {\n",
              "      background-color: #3B4455;\n",
              "      fill: #D2E3FC;\n",
              "    }\n",
              "\n",
              "    [theme=dark] .colab-df-convert:hover {\n",
              "      background-color: #434B5C;\n",
              "      box-shadow: 0px 1px 3px 1px rgba(0, 0, 0, 0.15);\n",
              "      filter: drop-shadow(0px 1px 2px rgba(0, 0, 0, 0.3));\n",
              "      fill: #FFFFFF;\n",
              "    }\n",
              "  </style>\n",
              "\n",
              "      <script>\n",
              "        const buttonEl =\n",
              "          document.querySelector('#df-19fdad47-09cf-46db-b583-801d39190158 button.colab-df-convert');\n",
              "        buttonEl.style.display =\n",
              "          google.colab.kernel.accessAllowed ? 'block' : 'none';\n",
              "\n",
              "        async function convertToInteractive(key) {\n",
              "          const element = document.querySelector('#df-19fdad47-09cf-46db-b583-801d39190158');\n",
              "          const dataTable =\n",
              "            await google.colab.kernel.invokeFunction('convertToInteractive',\n",
              "                                                     [key], {});\n",
              "          if (!dataTable) return;\n",
              "\n",
              "          const docLinkHtml = 'Like what you see? Visit the ' +\n",
              "            '<a target=\"_blank\" href=https://colab.research.google.com/notebooks/data_table.ipynb>data table notebook</a>'\n",
              "            + ' to learn more about interactive tables.';\n",
              "          element.innerHTML = '';\n",
              "          dataTable['output_type'] = 'display_data';\n",
              "          await google.colab.output.renderOutput(dataTable, element);\n",
              "          const docLink = document.createElement('div');\n",
              "          docLink.innerHTML = docLinkHtml;\n",
              "          element.appendChild(docLink);\n",
              "        }\n",
              "      </script>\n",
              "    </div>\n",
              "  </div>\n",
              "  "
            ]
          },
          "metadata": {},
          "execution_count": 4
        }
      ]
    },
    {
      "cell_type": "code",
      "source": [
        "df = pd.read_csv('df_clean.csv')"
      ],
      "metadata": {
        "id": "SxQE6ugTJ6Hn"
      },
      "execution_count": null,
      "outputs": []
    },
    {
      "cell_type": "code",
      "source": [
        "# Define a function to apply to each row\n",
        "def rating_to_binary(sentiment):\n",
        "    if sentiment > 3:\n",
        "        return 1\n",
        "    else:\n",
        "        return 0\n",
        "\n",
        "# Apply the function to the 'star_rating' column and create a new column 'binary_rating'\n",
        "df['sentiment'] = df['star_rating'].apply(rating_to_binary)"
      ],
      "metadata": {
        "id": "1dYrRlKMJaUw"
      },
      "execution_count": null,
      "outputs": []
    },
    {
      "cell_type": "code",
      "source": [
        "df.head()"
      ],
      "metadata": {
        "colab": {
          "base_uri": "https://localhost:8080/",
          "height": 565
        },
        "id": "6TEAwL95Ja9t",
        "outputId": "82bac6c6-d89e-4f68-cd0f-838208a731a2"
      },
      "execution_count": null,
      "outputs": [
        {
          "output_type": "execute_result",
          "data": {
            "text/plain": [
              "  marketplace  customer_id       review_id  product_id  product_parent  \\\n",
              "0          US      2144007  R2NXX2SOXDCAIL  B000TBW0NA       854096552   \n",
              "1          US     23496484  R21HIXCSP7ZP6N  B00GQJR25A       256600215   \n",
              "2          US     50297424  R1YU6KE8MVMSAY  B010QXBXGU       261586866   \n",
              "3          US     20926165  R3POM2E1YTWWE8  B001TESDY6       808594229   \n",
              "4          US       930288  R2GAXR297KRXWM  B00DY860G8       541993171   \n",
              "\n",
              "                                       product_title product_category  \\\n",
              "0  opi avoplex nail cuticle replenishing oil flui...           Beauty   \n",
              "1                                  puffcuff original           Beauty   \n",
              "2  hot cold unscented eye pillow free eye mask sl...           Beauty   \n",
              "3  advanced revitalift antiaging glycolic minipee...           Beauty   \n",
              "4  joico smooth cure shampoo conditioner curly fr...           Beauty   \n",
              "\n",
              "   star_rating  helpful_votes  total_votes vine verified_purchase  \\\n",
              "0            5            2.0          2.0    N                 Y   \n",
              "1            5            0.0          1.0    N                 Y   \n",
              "2            5            0.0          0.0    N                 N   \n",
              "3            5            0.0          0.0    N                 Y   \n",
              "4            3            0.0          0.0    N                 N   \n",
              "\n",
              "                   review_headline  \\\n",
              "0                            stars   \n",
              "1                    great product   \n",
              "2  past days works great unscented   \n",
              "3                             best   \n",
              "4                      leaves film   \n",
              "\n",
              "                                         review_body review_date  sentiment  \n",
              "0                                 love nails growing  2015-08-04          1  \n",
              "1  perfect hair works great gather hair ponytail ...  2015-04-12          1  \n",
              "2  past days works great unscented silky fabric i...  2015-08-24          1  \n",
              "3  stopped selling stores heart broke thank goodn...  2013-07-02          1  \n",
              "4  dont know shampoo conditioner product leaves g...  2014-11-11          0  "
            ],
            "text/html": [
              "\n",
              "  <div id=\"df-e04ae0c8-c0db-4a32-8350-aac7a6d87699\">\n",
              "    <div class=\"colab-df-container\">\n",
              "      <div>\n",
              "<style scoped>\n",
              "    .dataframe tbody tr th:only-of-type {\n",
              "        vertical-align: middle;\n",
              "    }\n",
              "\n",
              "    .dataframe tbody tr th {\n",
              "        vertical-align: top;\n",
              "    }\n",
              "\n",
              "    .dataframe thead th {\n",
              "        text-align: right;\n",
              "    }\n",
              "</style>\n",
              "<table border=\"1\" class=\"dataframe\">\n",
              "  <thead>\n",
              "    <tr style=\"text-align: right;\">\n",
              "      <th></th>\n",
              "      <th>marketplace</th>\n",
              "      <th>customer_id</th>\n",
              "      <th>review_id</th>\n",
              "      <th>product_id</th>\n",
              "      <th>product_parent</th>\n",
              "      <th>product_title</th>\n",
              "      <th>product_category</th>\n",
              "      <th>star_rating</th>\n",
              "      <th>helpful_votes</th>\n",
              "      <th>total_votes</th>\n",
              "      <th>vine</th>\n",
              "      <th>verified_purchase</th>\n",
              "      <th>review_headline</th>\n",
              "      <th>review_body</th>\n",
              "      <th>review_date</th>\n",
              "      <th>sentiment</th>\n",
              "    </tr>\n",
              "  </thead>\n",
              "  <tbody>\n",
              "    <tr>\n",
              "      <th>0</th>\n",
              "      <td>US</td>\n",
              "      <td>2144007</td>\n",
              "      <td>R2NXX2SOXDCAIL</td>\n",
              "      <td>B000TBW0NA</td>\n",
              "      <td>854096552</td>\n",
              "      <td>opi avoplex nail cuticle replenishing oil flui...</td>\n",
              "      <td>Beauty</td>\n",
              "      <td>5</td>\n",
              "      <td>2.0</td>\n",
              "      <td>2.0</td>\n",
              "      <td>N</td>\n",
              "      <td>Y</td>\n",
              "      <td>stars</td>\n",
              "      <td>love nails growing</td>\n",
              "      <td>2015-08-04</td>\n",
              "      <td>1</td>\n",
              "    </tr>\n",
              "    <tr>\n",
              "      <th>1</th>\n",
              "      <td>US</td>\n",
              "      <td>23496484</td>\n",
              "      <td>R21HIXCSP7ZP6N</td>\n",
              "      <td>B00GQJR25A</td>\n",
              "      <td>256600215</td>\n",
              "      <td>puffcuff original</td>\n",
              "      <td>Beauty</td>\n",
              "      <td>5</td>\n",
              "      <td>0.0</td>\n",
              "      <td>1.0</td>\n",
              "      <td>N</td>\n",
              "      <td>Y</td>\n",
              "      <td>great product</td>\n",
              "      <td>perfect hair works great gather hair ponytail ...</td>\n",
              "      <td>2015-04-12</td>\n",
              "      <td>1</td>\n",
              "    </tr>\n",
              "    <tr>\n",
              "      <th>2</th>\n",
              "      <td>US</td>\n",
              "      <td>50297424</td>\n",
              "      <td>R1YU6KE8MVMSAY</td>\n",
              "      <td>B010QXBXGU</td>\n",
              "      <td>261586866</td>\n",
              "      <td>hot cold unscented eye pillow free eye mask sl...</td>\n",
              "      <td>Beauty</td>\n",
              "      <td>5</td>\n",
              "      <td>0.0</td>\n",
              "      <td>0.0</td>\n",
              "      <td>N</td>\n",
              "      <td>N</td>\n",
              "      <td>past days works great unscented</td>\n",
              "      <td>past days works great unscented silky fabric i...</td>\n",
              "      <td>2015-08-24</td>\n",
              "      <td>1</td>\n",
              "    </tr>\n",
              "    <tr>\n",
              "      <th>3</th>\n",
              "      <td>US</td>\n",
              "      <td>20926165</td>\n",
              "      <td>R3POM2E1YTWWE8</td>\n",
              "      <td>B001TESDY6</td>\n",
              "      <td>808594229</td>\n",
              "      <td>advanced revitalift antiaging glycolic minipee...</td>\n",
              "      <td>Beauty</td>\n",
              "      <td>5</td>\n",
              "      <td>0.0</td>\n",
              "      <td>0.0</td>\n",
              "      <td>N</td>\n",
              "      <td>Y</td>\n",
              "      <td>best</td>\n",
              "      <td>stopped selling stores heart broke thank goodn...</td>\n",
              "      <td>2013-07-02</td>\n",
              "      <td>1</td>\n",
              "    </tr>\n",
              "    <tr>\n",
              "      <th>4</th>\n",
              "      <td>US</td>\n",
              "      <td>930288</td>\n",
              "      <td>R2GAXR297KRXWM</td>\n",
              "      <td>B00DY860G8</td>\n",
              "      <td>541993171</td>\n",
              "      <td>joico smooth cure shampoo conditioner curly fr...</td>\n",
              "      <td>Beauty</td>\n",
              "      <td>3</td>\n",
              "      <td>0.0</td>\n",
              "      <td>0.0</td>\n",
              "      <td>N</td>\n",
              "      <td>N</td>\n",
              "      <td>leaves film</td>\n",
              "      <td>dont know shampoo conditioner product leaves g...</td>\n",
              "      <td>2014-11-11</td>\n",
              "      <td>0</td>\n",
              "    </tr>\n",
              "  </tbody>\n",
              "</table>\n",
              "</div>\n",
              "      <button class=\"colab-df-convert\" onclick=\"convertToInteractive('df-e04ae0c8-c0db-4a32-8350-aac7a6d87699')\"\n",
              "              title=\"Convert this dataframe to an interactive table.\"\n",
              "              style=\"display:none;\">\n",
              "        \n",
              "  <svg xmlns=\"http://www.w3.org/2000/svg\" height=\"24px\"viewBox=\"0 0 24 24\"\n",
              "       width=\"24px\">\n",
              "    <path d=\"M0 0h24v24H0V0z\" fill=\"none\"/>\n",
              "    <path d=\"M18.56 5.44l.94 2.06.94-2.06 2.06-.94-2.06-.94-.94-2.06-.94 2.06-2.06.94zm-11 1L8.5 8.5l.94-2.06 2.06-.94-2.06-.94L8.5 2.5l-.94 2.06-2.06.94zm10 10l.94 2.06.94-2.06 2.06-.94-2.06-.94-.94-2.06-.94 2.06-2.06.94z\"/><path d=\"M17.41 7.96l-1.37-1.37c-.4-.4-.92-.59-1.43-.59-.52 0-1.04.2-1.43.59L10.3 9.45l-7.72 7.72c-.78.78-.78 2.05 0 2.83L4 21.41c.39.39.9.59 1.41.59.51 0 1.02-.2 1.41-.59l7.78-7.78 2.81-2.81c.8-.78.8-2.07 0-2.86zM5.41 20L4 18.59l7.72-7.72 1.47 1.35L5.41 20z\"/>\n",
              "  </svg>\n",
              "      </button>\n",
              "      \n",
              "  <style>\n",
              "    .colab-df-container {\n",
              "      display:flex;\n",
              "      flex-wrap:wrap;\n",
              "      gap: 12px;\n",
              "    }\n",
              "\n",
              "    .colab-df-convert {\n",
              "      background-color: #E8F0FE;\n",
              "      border: none;\n",
              "      border-radius: 50%;\n",
              "      cursor: pointer;\n",
              "      display: none;\n",
              "      fill: #1967D2;\n",
              "      height: 32px;\n",
              "      padding: 0 0 0 0;\n",
              "      width: 32px;\n",
              "    }\n",
              "\n",
              "    .colab-df-convert:hover {\n",
              "      background-color: #E2EBFA;\n",
              "      box-shadow: 0px 1px 2px rgba(60, 64, 67, 0.3), 0px 1px 3px 1px rgba(60, 64, 67, 0.15);\n",
              "      fill: #174EA6;\n",
              "    }\n",
              "\n",
              "    [theme=dark] .colab-df-convert {\n",
              "      background-color: #3B4455;\n",
              "      fill: #D2E3FC;\n",
              "    }\n",
              "\n",
              "    [theme=dark] .colab-df-convert:hover {\n",
              "      background-color: #434B5C;\n",
              "      box-shadow: 0px 1px 3px 1px rgba(0, 0, 0, 0.15);\n",
              "      filter: drop-shadow(0px 1px 2px rgba(0, 0, 0, 0.3));\n",
              "      fill: #FFFFFF;\n",
              "    }\n",
              "  </style>\n",
              "\n",
              "      <script>\n",
              "        const buttonEl =\n",
              "          document.querySelector('#df-e04ae0c8-c0db-4a32-8350-aac7a6d87699 button.colab-df-convert');\n",
              "        buttonEl.style.display =\n",
              "          google.colab.kernel.accessAllowed ? 'block' : 'none';\n",
              "\n",
              "        async function convertToInteractive(key) {\n",
              "          const element = document.querySelector('#df-e04ae0c8-c0db-4a32-8350-aac7a6d87699');\n",
              "          const dataTable =\n",
              "            await google.colab.kernel.invokeFunction('convertToInteractive',\n",
              "                                                     [key], {});\n",
              "          if (!dataTable) return;\n",
              "\n",
              "          const docLinkHtml = 'Like what you see? Visit the ' +\n",
              "            '<a target=\"_blank\" href=https://colab.research.google.com/notebooks/data_table.ipynb>data table notebook</a>'\n",
              "            + ' to learn more about interactive tables.';\n",
              "          element.innerHTML = '';\n",
              "          dataTable['output_type'] = 'display_data';\n",
              "          await google.colab.output.renderOutput(dataTable, element);\n",
              "          const docLink = document.createElement('div');\n",
              "          docLink.innerHTML = docLinkHtml;\n",
              "          element.appendChild(docLink);\n",
              "        }\n",
              "      </script>\n",
              "    </div>\n",
              "  </div>\n",
              "  "
            ]
          },
          "metadata": {},
          "execution_count": 29
        }
      ]
    },
    {
      "cell_type": "code",
      "source": [
        "print(df['review_body'].dtype)"
      ],
      "metadata": {
        "colab": {
          "base_uri": "https://localhost:8080/"
        },
        "id": "Oz84dtV1JgC0",
        "outputId": "e11d4f72-f669-4aa4-d9c4-4f149f127c9d"
      },
      "execution_count": null,
      "outputs": [
        {
          "output_type": "stream",
          "name": "stdout",
          "text": [
            "object\n"
          ]
        }
      ]
    },
    {
      "cell_type": "code",
      "source": [
        "df['star_rating'] = df['star_rating'].astype(float).astype(int)\n",
        "df['review_body'] = df['review_body'].astype(str)"
      ],
      "metadata": {
        "id": "q7cimj7TJgl6"
      },
      "execution_count": null,
      "outputs": []
    },
    {
      "cell_type": "code",
      "source": [
        "### Downlad dataset after data cleanup\n",
        "df.to_csv(\"df_clean1.csv\", index = False)"
      ],
      "metadata": {
        "id": "YqMdQxsNFi8z"
      },
      "execution_count": null,
      "outputs": []
    },
    {
      "cell_type": "code",
      "source": [
        "df['star_rating'] = df['star_rating'].astype(int)#float\n",
        "df['product_title'] = df['product_title'].astype(str)\n",
        "df['review_body'] = df['review_body'].astype(str)\n",
        "df['review_headline'] = df['review_headline'].astype(str)"
      ],
      "metadata": {
        "id": "UEyjBuN0BVLM"
      },
      "execution_count": null,
      "outputs": []
    },
    {
      "cell_type": "code",
      "source": [
        "df['product_title'] = df['product_title'].apply(clean_text)\n",
        "df['review_body'] = df['review_body'].apply(clean_text)\n",
        "df['review_headline'] = df['review_headline'].apply(clean_text)\n",
        "display(df.head())"
      ],
      "metadata": {
        "id": "jSuU5V-BBbBD"
      },
      "execution_count": null,
      "outputs": []
    },
    {
      "cell_type": "code",
      "source": [
        "from collections import Counter\n",
        "print(Counter(df['product_title']).most_common(10))"
      ],
      "metadata": {
        "id": "1yUJMUVbBcOG"
      },
      "execution_count": null,
      "outputs": []
    },
    {
      "cell_type": "code",
      "source": [
        "title_counts = df['product_title'].value_counts()\n",
        "title_counts.head()"
      ],
      "metadata": {
        "id": "w9IONcBvBeEo"
      },
      "execution_count": null,
      "outputs": []
    },
    {
      "cell_type": "code",
      "source": [
        "a = (df.groupby('product_title')['product_parent'].nunique().plot.bar())\n",
        "\n",
        "leng = len(pd.unique(df['product_parent']))\n",
        "print(\"\", leng)"
      ],
      "metadata": {
        "id": "5bwssTQ7BfTE"
      },
      "execution_count": null,
      "outputs": []
    },
    {
      "cell_type": "code",
      "source": [
        "d = df.groupby('product_title')['review_body'].agg('count')\n",
        "d.sort_values(ascending=False).plot.bar()"
      ],
      "metadata": {
        "id": "y2ocCINvBglI"
      },
      "execution_count": null,
      "outputs": []
    },
    {
      "cell_type": "code",
      "source": [
        "#LATER\n",
        "#df = df.dropna()\n",
        "#df['star_rating'] = pd.to_numeric(df['star_rating'], errors='coerce')\n",
        "#df = df.dropna(subset=['star_rating'])\n",
        "df = df[df['star_rating'].isin(['1', '2', '3', '4', '5'])]\n",
        "df['sentiment'] = np.where(df['star_rating']>=3, 'positive', 'negative')\n",
        "#df = df[['product_title','review_body', 'sentiment']]"
      ],
      "metadata": {
        "id": "VzxP4rtKBjJV"
      },
      "execution_count": null,
      "outputs": []
    },
    {
      "cell_type": "code",
      "source": [
        "df.head()"
      ],
      "metadata": {
        "id": "fav9dCgcBju1"
      },
      "execution_count": null,
      "outputs": []
    },
    {
      "cell_type": "code",
      "source": [
        "from PIL import Image\n",
        "from wordcloud import WordCloud, STOPWORDS, ImageColorGenerator\n",
        "\n",
        "import matplotlib.pyplot as plt\n",
        "%matplotlib inline\n",
        "text = df.product_title[1]\n",
        "\n",
        "# Create and generate a word cloud image:\n",
        "wordcloud = WordCloud().generate(text)\n",
        "\n",
        "# Display the generated image:\n",
        "plt.imshow(wordcloud, interpolation='bilinear')\n",
        "plt.axis(\"off\")\n",
        "plt.show()"
      ],
      "metadata": {
        "id": "acXjJysXBkvs"
      },
      "execution_count": null,
      "outputs": []
    },
    {
      "cell_type": "markdown",
      "source": [
        "##LSTM"
      ],
      "metadata": {
        "id": "D--4AmY4JNsc"
      }
    },
    {
      "cell_type": "code",
      "source": [
        "import numpy as np\n",
        "import tensorflow as tf\n",
        "from tensorflow.keras.models import Sequential\n",
        "from tensorflow.keras.layers import LSTM, Dense, Dropout, Embedding\n",
        "from tensorflow.keras.preprocessing.text import Tokenizer\n",
        "from tensorflow.keras.preprocessing.sequence import pad_sequences\n",
        "from sklearn.model_selection import train_test_split\n",
        "from sklearn.metrics import confusion_matrix, classification_report\n",
        "import pandas as pd"
      ],
      "metadata": {
        "id": "0LC03_tJJNNt"
      },
      "execution_count": null,
      "outputs": []
    },
    {
      "cell_type": "code",
      "source": [
        "df = pd.read_csv('df_clean1.csv')"
      ],
      "metadata": {
        "id": "Bflow_Qf1TUB"
      },
      "execution_count": null,
      "outputs": []
    },
    {
      "cell_type": "code",
      "source": [
        "df.head()"
      ],
      "metadata": {
        "colab": {
          "base_uri": "https://localhost:8080/",
          "height": 565
        },
        "id": "5WiROSqG1lKR",
        "outputId": "fec631b2-ff6d-4e1a-bd2d-2e710a4e42b3"
      },
      "execution_count": null,
      "outputs": [
        {
          "output_type": "execute_result",
          "data": {
            "text/plain": [
              "  marketplace  customer_id       review_id  product_id  product_parent  \\\n",
              "0          US      2144007  R2NXX2SOXDCAIL  B000TBW0NA       854096552   \n",
              "1          US     23496484  R21HIXCSP7ZP6N  B00GQJR25A       256600215   \n",
              "2          US     50297424  R1YU6KE8MVMSAY  B010QXBXGU       261586866   \n",
              "3          US     20926165  R3POM2E1YTWWE8  B001TESDY6       808594229   \n",
              "4          US       930288  R2GAXR297KRXWM  B00DY860G8       541993171   \n",
              "\n",
              "                                       product_title product_category  \\\n",
              "0  opi avoplex nail cuticle replenishing oil flui...           Beauty   \n",
              "1                                  puffcuff original           Beauty   \n",
              "2  hot cold unscented eye pillow free eye mask sl...           Beauty   \n",
              "3  advanced revitalift antiaging glycolic minipee...           Beauty   \n",
              "4  joico smooth cure shampoo conditioner curly fr...           Beauty   \n",
              "\n",
              "   star_rating  helpful_votes  total_votes vine verified_purchase  \\\n",
              "0            5            2.0          2.0    N                 Y   \n",
              "1            5            0.0          1.0    N                 Y   \n",
              "2            5            0.0          0.0    N                 N   \n",
              "3            5            0.0          0.0    N                 Y   \n",
              "4            3            0.0          0.0    N                 N   \n",
              "\n",
              "                   review_headline  \\\n",
              "0                            stars   \n",
              "1                    great product   \n",
              "2  past days works great unscented   \n",
              "3                             best   \n",
              "4                      leaves film   \n",
              "\n",
              "                                         review_body review_date  sentiment  \n",
              "0                                 love nails growing  2015-08-04          1  \n",
              "1  perfect hair works great gather hair ponytail ...  2015-04-12          1  \n",
              "2  past days works great unscented silky fabric i...  2015-08-24          1  \n",
              "3  stopped selling stores heart broke thank goodn...  2013-07-02          1  \n",
              "4  dont know shampoo conditioner product leaves g...  2014-11-11          0  "
            ],
            "text/html": [
              "\n",
              "  <div id=\"df-76962941-f5b5-4dbd-b96c-55179b576b04\">\n",
              "    <div class=\"colab-df-container\">\n",
              "      <div>\n",
              "<style scoped>\n",
              "    .dataframe tbody tr th:only-of-type {\n",
              "        vertical-align: middle;\n",
              "    }\n",
              "\n",
              "    .dataframe tbody tr th {\n",
              "        vertical-align: top;\n",
              "    }\n",
              "\n",
              "    .dataframe thead th {\n",
              "        text-align: right;\n",
              "    }\n",
              "</style>\n",
              "<table border=\"1\" class=\"dataframe\">\n",
              "  <thead>\n",
              "    <tr style=\"text-align: right;\">\n",
              "      <th></th>\n",
              "      <th>marketplace</th>\n",
              "      <th>customer_id</th>\n",
              "      <th>review_id</th>\n",
              "      <th>product_id</th>\n",
              "      <th>product_parent</th>\n",
              "      <th>product_title</th>\n",
              "      <th>product_category</th>\n",
              "      <th>star_rating</th>\n",
              "      <th>helpful_votes</th>\n",
              "      <th>total_votes</th>\n",
              "      <th>vine</th>\n",
              "      <th>verified_purchase</th>\n",
              "      <th>review_headline</th>\n",
              "      <th>review_body</th>\n",
              "      <th>review_date</th>\n",
              "      <th>sentiment</th>\n",
              "    </tr>\n",
              "  </thead>\n",
              "  <tbody>\n",
              "    <tr>\n",
              "      <th>0</th>\n",
              "      <td>US</td>\n",
              "      <td>2144007</td>\n",
              "      <td>R2NXX2SOXDCAIL</td>\n",
              "      <td>B000TBW0NA</td>\n",
              "      <td>854096552</td>\n",
              "      <td>opi avoplex nail cuticle replenishing oil flui...</td>\n",
              "      <td>Beauty</td>\n",
              "      <td>5</td>\n",
              "      <td>2.0</td>\n",
              "      <td>2.0</td>\n",
              "      <td>N</td>\n",
              "      <td>Y</td>\n",
              "      <td>stars</td>\n",
              "      <td>love nails growing</td>\n",
              "      <td>2015-08-04</td>\n",
              "      <td>1</td>\n",
              "    </tr>\n",
              "    <tr>\n",
              "      <th>1</th>\n",
              "      <td>US</td>\n",
              "      <td>23496484</td>\n",
              "      <td>R21HIXCSP7ZP6N</td>\n",
              "      <td>B00GQJR25A</td>\n",
              "      <td>256600215</td>\n",
              "      <td>puffcuff original</td>\n",
              "      <td>Beauty</td>\n",
              "      <td>5</td>\n",
              "      <td>0.0</td>\n",
              "      <td>1.0</td>\n",
              "      <td>N</td>\n",
              "      <td>Y</td>\n",
              "      <td>great product</td>\n",
              "      <td>perfect hair works great gather hair ponytail ...</td>\n",
              "      <td>2015-04-12</td>\n",
              "      <td>1</td>\n",
              "    </tr>\n",
              "    <tr>\n",
              "      <th>2</th>\n",
              "      <td>US</td>\n",
              "      <td>50297424</td>\n",
              "      <td>R1YU6KE8MVMSAY</td>\n",
              "      <td>B010QXBXGU</td>\n",
              "      <td>261586866</td>\n",
              "      <td>hot cold unscented eye pillow free eye mask sl...</td>\n",
              "      <td>Beauty</td>\n",
              "      <td>5</td>\n",
              "      <td>0.0</td>\n",
              "      <td>0.0</td>\n",
              "      <td>N</td>\n",
              "      <td>N</td>\n",
              "      <td>past days works great unscented</td>\n",
              "      <td>past days works great unscented silky fabric i...</td>\n",
              "      <td>2015-08-24</td>\n",
              "      <td>1</td>\n",
              "    </tr>\n",
              "    <tr>\n",
              "      <th>3</th>\n",
              "      <td>US</td>\n",
              "      <td>20926165</td>\n",
              "      <td>R3POM2E1YTWWE8</td>\n",
              "      <td>B001TESDY6</td>\n",
              "      <td>808594229</td>\n",
              "      <td>advanced revitalift antiaging glycolic minipee...</td>\n",
              "      <td>Beauty</td>\n",
              "      <td>5</td>\n",
              "      <td>0.0</td>\n",
              "      <td>0.0</td>\n",
              "      <td>N</td>\n",
              "      <td>Y</td>\n",
              "      <td>best</td>\n",
              "      <td>stopped selling stores heart broke thank goodn...</td>\n",
              "      <td>2013-07-02</td>\n",
              "      <td>1</td>\n",
              "    </tr>\n",
              "    <tr>\n",
              "      <th>4</th>\n",
              "      <td>US</td>\n",
              "      <td>930288</td>\n",
              "      <td>R2GAXR297KRXWM</td>\n",
              "      <td>B00DY860G8</td>\n",
              "      <td>541993171</td>\n",
              "      <td>joico smooth cure shampoo conditioner curly fr...</td>\n",
              "      <td>Beauty</td>\n",
              "      <td>3</td>\n",
              "      <td>0.0</td>\n",
              "      <td>0.0</td>\n",
              "      <td>N</td>\n",
              "      <td>N</td>\n",
              "      <td>leaves film</td>\n",
              "      <td>dont know shampoo conditioner product leaves g...</td>\n",
              "      <td>2014-11-11</td>\n",
              "      <td>0</td>\n",
              "    </tr>\n",
              "  </tbody>\n",
              "</table>\n",
              "</div>\n",
              "      <button class=\"colab-df-convert\" onclick=\"convertToInteractive('df-76962941-f5b5-4dbd-b96c-55179b576b04')\"\n",
              "              title=\"Convert this dataframe to an interactive table.\"\n",
              "              style=\"display:none;\">\n",
              "        \n",
              "  <svg xmlns=\"http://www.w3.org/2000/svg\" height=\"24px\"viewBox=\"0 0 24 24\"\n",
              "       width=\"24px\">\n",
              "    <path d=\"M0 0h24v24H0V0z\" fill=\"none\"/>\n",
              "    <path d=\"M18.56 5.44l.94 2.06.94-2.06 2.06-.94-2.06-.94-.94-2.06-.94 2.06-2.06.94zm-11 1L8.5 8.5l.94-2.06 2.06-.94-2.06-.94L8.5 2.5l-.94 2.06-2.06.94zm10 10l.94 2.06.94-2.06 2.06-.94-2.06-.94-.94-2.06-.94 2.06-2.06.94z\"/><path d=\"M17.41 7.96l-1.37-1.37c-.4-.4-.92-.59-1.43-.59-.52 0-1.04.2-1.43.59L10.3 9.45l-7.72 7.72c-.78.78-.78 2.05 0 2.83L4 21.41c.39.39.9.59 1.41.59.51 0 1.02-.2 1.41-.59l7.78-7.78 2.81-2.81c.8-.78.8-2.07 0-2.86zM5.41 20L4 18.59l7.72-7.72 1.47 1.35L5.41 20z\"/>\n",
              "  </svg>\n",
              "      </button>\n",
              "      \n",
              "  <style>\n",
              "    .colab-df-container {\n",
              "      display:flex;\n",
              "      flex-wrap:wrap;\n",
              "      gap: 12px;\n",
              "    }\n",
              "\n",
              "    .colab-df-convert {\n",
              "      background-color: #E8F0FE;\n",
              "      border: none;\n",
              "      border-radius: 50%;\n",
              "      cursor: pointer;\n",
              "      display: none;\n",
              "      fill: #1967D2;\n",
              "      height: 32px;\n",
              "      padding: 0 0 0 0;\n",
              "      width: 32px;\n",
              "    }\n",
              "\n",
              "    .colab-df-convert:hover {\n",
              "      background-color: #E2EBFA;\n",
              "      box-shadow: 0px 1px 2px rgba(60, 64, 67, 0.3), 0px 1px 3px 1px rgba(60, 64, 67, 0.15);\n",
              "      fill: #174EA6;\n",
              "    }\n",
              "\n",
              "    [theme=dark] .colab-df-convert {\n",
              "      background-color: #3B4455;\n",
              "      fill: #D2E3FC;\n",
              "    }\n",
              "\n",
              "    [theme=dark] .colab-df-convert:hover {\n",
              "      background-color: #434B5C;\n",
              "      box-shadow: 0px 1px 3px 1px rgba(0, 0, 0, 0.15);\n",
              "      filter: drop-shadow(0px 1px 2px rgba(0, 0, 0, 0.3));\n",
              "      fill: #FFFFFF;\n",
              "    }\n",
              "  </style>\n",
              "\n",
              "      <script>\n",
              "        const buttonEl =\n",
              "          document.querySelector('#df-76962941-f5b5-4dbd-b96c-55179b576b04 button.colab-df-convert');\n",
              "        buttonEl.style.display =\n",
              "          google.colab.kernel.accessAllowed ? 'block' : 'none';\n",
              "\n",
              "        async function convertToInteractive(key) {\n",
              "          const element = document.querySelector('#df-76962941-f5b5-4dbd-b96c-55179b576b04');\n",
              "          const dataTable =\n",
              "            await google.colab.kernel.invokeFunction('convertToInteractive',\n",
              "                                                     [key], {});\n",
              "          if (!dataTable) return;\n",
              "\n",
              "          const docLinkHtml = 'Like what you see? Visit the ' +\n",
              "            '<a target=\"_blank\" href=https://colab.research.google.com/notebooks/data_table.ipynb>data table notebook</a>'\n",
              "            + ' to learn more about interactive tables.';\n",
              "          element.innerHTML = '';\n",
              "          dataTable['output_type'] = 'display_data';\n",
              "          await google.colab.output.renderOutput(dataTable, element);\n",
              "          const docLink = document.createElement('div');\n",
              "          docLink.innerHTML = docLinkHtml;\n",
              "          element.appendChild(docLink);\n",
              "        }\n",
              "      </script>\n",
              "    </div>\n",
              "  </div>\n",
              "  "
            ]
          },
          "metadata": {},
          "execution_count": 5
        }
      ]
    },
    {
      "cell_type": "code",
      "source": [
        "# Define a function to apply to each row\n",
        "def rating_to_binary(sentiment):\n",
        "    if sentiment > 3:\n",
        "        return 1\n",
        "    else:\n",
        "        return 0\n",
        "\n",
        "# Apply the function to the 'star_rating' column and create a new column 'binary_rating'\n",
        "df['sentiment'] = df['star_rating'].apply(rating_to_binary)"
      ],
      "metadata": {
        "id": "AwIjs02Y2MZN"
      },
      "execution_count": null,
      "outputs": []
    },
    {
      "cell_type": "code",
      "source": [
        "df.head()"
      ],
      "metadata": {
        "colab": {
          "base_uri": "https://localhost:8080/",
          "height": 565
        },
        "id": "RaRoY1c-2OJr",
        "outputId": "288482b0-f39f-44d4-9f09-6f2a01385835"
      },
      "execution_count": null,
      "outputs": [
        {
          "output_type": "execute_result",
          "data": {
            "text/plain": [
              "  marketplace  customer_id       review_id  product_id  product_parent  \\\n",
              "0          US      2144007  R2NXX2SOXDCAIL  B000TBW0NA       854096552   \n",
              "1          US     23496484  R21HIXCSP7ZP6N  B00GQJR25A       256600215   \n",
              "2          US     50297424  R1YU6KE8MVMSAY  B010QXBXGU       261586866   \n",
              "3          US     20926165  R3POM2E1YTWWE8  B001TESDY6       808594229   \n",
              "4          US       930288  R2GAXR297KRXWM  B00DY860G8       541993171   \n",
              "\n",
              "                                       product_title product_category  \\\n",
              "0  opi avoplex nail cuticle replenishing oil flui...           Beauty   \n",
              "1                                  puffcuff original           Beauty   \n",
              "2  hot cold unscented eye pillow free eye mask sl...           Beauty   \n",
              "3  advanced revitalift antiaging glycolic minipee...           Beauty   \n",
              "4  joico smooth cure shampoo conditioner curly fr...           Beauty   \n",
              "\n",
              "   star_rating  helpful_votes  total_votes vine verified_purchase  \\\n",
              "0            5            2.0          2.0    N                 Y   \n",
              "1            5            0.0          1.0    N                 Y   \n",
              "2            5            0.0          0.0    N                 N   \n",
              "3            5            0.0          0.0    N                 Y   \n",
              "4            3            0.0          0.0    N                 N   \n",
              "\n",
              "                   review_headline  \\\n",
              "0                            stars   \n",
              "1                    great product   \n",
              "2  past days works great unscented   \n",
              "3                             best   \n",
              "4                      leaves film   \n",
              "\n",
              "                                         review_body review_date  sentiment  \n",
              "0                                 love nails growing  2015-08-04          1  \n",
              "1  perfect hair works great gather hair ponytail ...  2015-04-12          1  \n",
              "2  past days works great unscented silky fabric i...  2015-08-24          1  \n",
              "3  stopped selling stores heart broke thank goodn...  2013-07-02          1  \n",
              "4  dont know shampoo conditioner product leaves g...  2014-11-11          0  "
            ],
            "text/html": [
              "\n",
              "  <div id=\"df-2c303265-44d6-42e6-977d-b12e9a52b383\">\n",
              "    <div class=\"colab-df-container\">\n",
              "      <div>\n",
              "<style scoped>\n",
              "    .dataframe tbody tr th:only-of-type {\n",
              "        vertical-align: middle;\n",
              "    }\n",
              "\n",
              "    .dataframe tbody tr th {\n",
              "        vertical-align: top;\n",
              "    }\n",
              "\n",
              "    .dataframe thead th {\n",
              "        text-align: right;\n",
              "    }\n",
              "</style>\n",
              "<table border=\"1\" class=\"dataframe\">\n",
              "  <thead>\n",
              "    <tr style=\"text-align: right;\">\n",
              "      <th></th>\n",
              "      <th>marketplace</th>\n",
              "      <th>customer_id</th>\n",
              "      <th>review_id</th>\n",
              "      <th>product_id</th>\n",
              "      <th>product_parent</th>\n",
              "      <th>product_title</th>\n",
              "      <th>product_category</th>\n",
              "      <th>star_rating</th>\n",
              "      <th>helpful_votes</th>\n",
              "      <th>total_votes</th>\n",
              "      <th>vine</th>\n",
              "      <th>verified_purchase</th>\n",
              "      <th>review_headline</th>\n",
              "      <th>review_body</th>\n",
              "      <th>review_date</th>\n",
              "      <th>sentiment</th>\n",
              "    </tr>\n",
              "  </thead>\n",
              "  <tbody>\n",
              "    <tr>\n",
              "      <th>0</th>\n",
              "      <td>US</td>\n",
              "      <td>2144007</td>\n",
              "      <td>R2NXX2SOXDCAIL</td>\n",
              "      <td>B000TBW0NA</td>\n",
              "      <td>854096552</td>\n",
              "      <td>opi avoplex nail cuticle replenishing oil flui...</td>\n",
              "      <td>Beauty</td>\n",
              "      <td>5</td>\n",
              "      <td>2.0</td>\n",
              "      <td>2.0</td>\n",
              "      <td>N</td>\n",
              "      <td>Y</td>\n",
              "      <td>stars</td>\n",
              "      <td>love nails growing</td>\n",
              "      <td>2015-08-04</td>\n",
              "      <td>1</td>\n",
              "    </tr>\n",
              "    <tr>\n",
              "      <th>1</th>\n",
              "      <td>US</td>\n",
              "      <td>23496484</td>\n",
              "      <td>R21HIXCSP7ZP6N</td>\n",
              "      <td>B00GQJR25A</td>\n",
              "      <td>256600215</td>\n",
              "      <td>puffcuff original</td>\n",
              "      <td>Beauty</td>\n",
              "      <td>5</td>\n",
              "      <td>0.0</td>\n",
              "      <td>1.0</td>\n",
              "      <td>N</td>\n",
              "      <td>Y</td>\n",
              "      <td>great product</td>\n",
              "      <td>perfect hair works great gather hair ponytail ...</td>\n",
              "      <td>2015-04-12</td>\n",
              "      <td>1</td>\n",
              "    </tr>\n",
              "    <tr>\n",
              "      <th>2</th>\n",
              "      <td>US</td>\n",
              "      <td>50297424</td>\n",
              "      <td>R1YU6KE8MVMSAY</td>\n",
              "      <td>B010QXBXGU</td>\n",
              "      <td>261586866</td>\n",
              "      <td>hot cold unscented eye pillow free eye mask sl...</td>\n",
              "      <td>Beauty</td>\n",
              "      <td>5</td>\n",
              "      <td>0.0</td>\n",
              "      <td>0.0</td>\n",
              "      <td>N</td>\n",
              "      <td>N</td>\n",
              "      <td>past days works great unscented</td>\n",
              "      <td>past days works great unscented silky fabric i...</td>\n",
              "      <td>2015-08-24</td>\n",
              "      <td>1</td>\n",
              "    </tr>\n",
              "    <tr>\n",
              "      <th>3</th>\n",
              "      <td>US</td>\n",
              "      <td>20926165</td>\n",
              "      <td>R3POM2E1YTWWE8</td>\n",
              "      <td>B001TESDY6</td>\n",
              "      <td>808594229</td>\n",
              "      <td>advanced revitalift antiaging glycolic minipee...</td>\n",
              "      <td>Beauty</td>\n",
              "      <td>5</td>\n",
              "      <td>0.0</td>\n",
              "      <td>0.0</td>\n",
              "      <td>N</td>\n",
              "      <td>Y</td>\n",
              "      <td>best</td>\n",
              "      <td>stopped selling stores heart broke thank goodn...</td>\n",
              "      <td>2013-07-02</td>\n",
              "      <td>1</td>\n",
              "    </tr>\n",
              "    <tr>\n",
              "      <th>4</th>\n",
              "      <td>US</td>\n",
              "      <td>930288</td>\n",
              "      <td>R2GAXR297KRXWM</td>\n",
              "      <td>B00DY860G8</td>\n",
              "      <td>541993171</td>\n",
              "      <td>joico smooth cure shampoo conditioner curly fr...</td>\n",
              "      <td>Beauty</td>\n",
              "      <td>3</td>\n",
              "      <td>0.0</td>\n",
              "      <td>0.0</td>\n",
              "      <td>N</td>\n",
              "      <td>N</td>\n",
              "      <td>leaves film</td>\n",
              "      <td>dont know shampoo conditioner product leaves g...</td>\n",
              "      <td>2014-11-11</td>\n",
              "      <td>0</td>\n",
              "    </tr>\n",
              "  </tbody>\n",
              "</table>\n",
              "</div>\n",
              "      <button class=\"colab-df-convert\" onclick=\"convertToInteractive('df-2c303265-44d6-42e6-977d-b12e9a52b383')\"\n",
              "              title=\"Convert this dataframe to an interactive table.\"\n",
              "              style=\"display:none;\">\n",
              "        \n",
              "  <svg xmlns=\"http://www.w3.org/2000/svg\" height=\"24px\"viewBox=\"0 0 24 24\"\n",
              "       width=\"24px\">\n",
              "    <path d=\"M0 0h24v24H0V0z\" fill=\"none\"/>\n",
              "    <path d=\"M18.56 5.44l.94 2.06.94-2.06 2.06-.94-2.06-.94-.94-2.06-.94 2.06-2.06.94zm-11 1L8.5 8.5l.94-2.06 2.06-.94-2.06-.94L8.5 2.5l-.94 2.06-2.06.94zm10 10l.94 2.06.94-2.06 2.06-.94-2.06-.94-.94-2.06-.94 2.06-2.06.94z\"/><path d=\"M17.41 7.96l-1.37-1.37c-.4-.4-.92-.59-1.43-.59-.52 0-1.04.2-1.43.59L10.3 9.45l-7.72 7.72c-.78.78-.78 2.05 0 2.83L4 21.41c.39.39.9.59 1.41.59.51 0 1.02-.2 1.41-.59l7.78-7.78 2.81-2.81c.8-.78.8-2.07 0-2.86zM5.41 20L4 18.59l7.72-7.72 1.47 1.35L5.41 20z\"/>\n",
              "  </svg>\n",
              "      </button>\n",
              "      \n",
              "  <style>\n",
              "    .colab-df-container {\n",
              "      display:flex;\n",
              "      flex-wrap:wrap;\n",
              "      gap: 12px;\n",
              "    }\n",
              "\n",
              "    .colab-df-convert {\n",
              "      background-color: #E8F0FE;\n",
              "      border: none;\n",
              "      border-radius: 50%;\n",
              "      cursor: pointer;\n",
              "      display: none;\n",
              "      fill: #1967D2;\n",
              "      height: 32px;\n",
              "      padding: 0 0 0 0;\n",
              "      width: 32px;\n",
              "    }\n",
              "\n",
              "    .colab-df-convert:hover {\n",
              "      background-color: #E2EBFA;\n",
              "      box-shadow: 0px 1px 2px rgba(60, 64, 67, 0.3), 0px 1px 3px 1px rgba(60, 64, 67, 0.15);\n",
              "      fill: #174EA6;\n",
              "    }\n",
              "\n",
              "    [theme=dark] .colab-df-convert {\n",
              "      background-color: #3B4455;\n",
              "      fill: #D2E3FC;\n",
              "    }\n",
              "\n",
              "    [theme=dark] .colab-df-convert:hover {\n",
              "      background-color: #434B5C;\n",
              "      box-shadow: 0px 1px 3px 1px rgba(0, 0, 0, 0.15);\n",
              "      filter: drop-shadow(0px 1px 2px rgba(0, 0, 0, 0.3));\n",
              "      fill: #FFFFFF;\n",
              "    }\n",
              "  </style>\n",
              "\n",
              "      <script>\n",
              "        const buttonEl =\n",
              "          document.querySelector('#df-2c303265-44d6-42e6-977d-b12e9a52b383 button.colab-df-convert');\n",
              "        buttonEl.style.display =\n",
              "          google.colab.kernel.accessAllowed ? 'block' : 'none';\n",
              "\n",
              "        async function convertToInteractive(key) {\n",
              "          const element = document.querySelector('#df-2c303265-44d6-42e6-977d-b12e9a52b383');\n",
              "          const dataTable =\n",
              "            await google.colab.kernel.invokeFunction('convertToInteractive',\n",
              "                                                     [key], {});\n",
              "          if (!dataTable) return;\n",
              "\n",
              "          const docLinkHtml = 'Like what you see? Visit the ' +\n",
              "            '<a target=\"_blank\" href=https://colab.research.google.com/notebooks/data_table.ipynb>data table notebook</a>'\n",
              "            + ' to learn more about interactive tables.';\n",
              "          element.innerHTML = '';\n",
              "          dataTable['output_type'] = 'display_data';\n",
              "          await google.colab.output.renderOutput(dataTable, element);\n",
              "          const docLink = document.createElement('div');\n",
              "          docLink.innerHTML = docLinkHtml;\n",
              "          element.appendChild(docLink);\n",
              "        }\n",
              "      </script>\n",
              "    </div>\n",
              "  </div>\n",
              "  "
            ]
          },
          "metadata": {},
          "execution_count": 7
        }
      ]
    },
    {
      "cell_type": "code",
      "source": [
        "# Check which rows have the value 'B001TESDY6' in the 'product_id' column\n",
        "mask = df['product_id'] == 'B001TESDY6'\n",
        "\n",
        "# Get the indexes of the rows that match the mask\n",
        "indexes = df.index[mask]\n",
        "\n",
        "# Print the indexes\n",
        "print(indexes)"
      ],
      "metadata": {
        "colab": {
          "base_uri": "https://localhost:8080/"
        },
        "id": "P51cKIQmsgAG",
        "outputId": "85cf46c6-7f94-4b5e-bb0d-4b5e240a8c91"
      },
      "execution_count": null,
      "outputs": [
        {
          "output_type": "stream",
          "name": "stdout",
          "text": [
            "Int64Index([3, 285127, 316060, 435271], dtype='int64')\n"
          ]
        }
      ]
    },
    {
      "cell_type": "code",
      "source": [
        "df.loc[3]"
      ],
      "metadata": {
        "colab": {
          "base_uri": "https://localhost:8080/"
        },
        "id": "hMns8T3ps-EV",
        "outputId": "fe188385-7c77-4894-bfed-f7cb77ff3568"
      },
      "execution_count": null,
      "outputs": [
        {
          "output_type": "execute_result",
          "data": {
            "text/plain": [
              "marketplace                                                         US\n",
              "customer_id                                                   20926165\n",
              "review_id                                               R3POM2E1YTWWE8\n",
              "product_id                                                  B001TESDY6\n",
              "product_parent                                               808594229\n",
              "product_title        advanced revitalift antiaging glycolic minipee...\n",
              "product_category                                                Beauty\n",
              "star_rating                                                          5\n",
              "helpful_votes                                                      0.0\n",
              "total_votes                                                        0.0\n",
              "vine                                                                 N\n",
              "verified_purchase                                                    Y\n",
              "review_headline                                                   best\n",
              "review_body          stopped selling stores heart broke thank goodn...\n",
              "review_date                                                 2013-07-02\n",
              "sentiment                                                            1\n",
              "Name: 3, dtype: object"
            ]
          },
          "metadata": {},
          "execution_count": 9
        }
      ]
    },
    {
      "cell_type": "code",
      "source": [
        "df.loc[285127]"
      ],
      "metadata": {
        "colab": {
          "base_uri": "https://localhost:8080/"
        },
        "id": "r_J7ihVqtDB4",
        "outputId": "3b606aac-9913-4666-aa77-2850caf569bd"
      },
      "execution_count": null,
      "outputs": [
        {
          "output_type": "execute_result",
          "data": {
            "text/plain": [
              "marketplace                                                         US\n",
              "customer_id                                                   37059327\n",
              "review_id                                               R3K6MSHLP0IZ2L\n",
              "product_id                                                  B001TESDY6\n",
              "product_parent                                               808594229\n",
              "product_title        advanced revitalift antiaging glycolic minipee...\n",
              "product_category                                                Beauty\n",
              "star_rating                                                          4\n",
              "helpful_votes                                                      4.0\n",
              "total_votes                                                        4.0\n",
              "vine                                                                 N\n",
              "verified_purchase                                                    N\n",
              "review_headline                                              skin soft\n",
              "review_body          dont know lift certainly left face feeling sof...\n",
              "review_date                                                 2009-04-09\n",
              "sentiment                                                            1\n",
              "Name: 285127, dtype: object"
            ]
          },
          "metadata": {},
          "execution_count": 10
        }
      ]
    },
    {
      "cell_type": "code",
      "source": [
        "df.loc[435271]"
      ],
      "metadata": {
        "id": "NbgLj4zqtIVM",
        "outputId": "6d7d1a4f-770b-4e66-8152-c09798b7466a",
        "colab": {
          "base_uri": "https://localhost:8080/"
        }
      },
      "execution_count": null,
      "outputs": [
        {
          "output_type": "execute_result",
          "data": {
            "text/plain": [
              "marketplace                                                         US\n",
              "customer_id                                                   23141507\n",
              "review_id                                               R2542T608D87A1\n",
              "product_id                                                  B001TESDY6\n",
              "product_parent                                               808594229\n",
              "product_title        advanced revitalift antiaging glycolic minipee...\n",
              "product_category                                                Beauty\n",
              "star_rating                                                          4\n",
              "helpful_votes                                                      0.0\n",
              "total_votes                                                        0.0\n",
              "vine                                                                 N\n",
              "verified_purchase                                                    Y\n",
              "review_headline                                                  stars\n",
              "review_body                                        great product works\n",
              "review_date                                                 2015-05-02\n",
              "sentiment                                                            1\n",
              "Name: 435271, dtype: object"
            ]
          },
          "metadata": {},
          "execution_count": 33
        }
      ]
    },
    {
      "cell_type": "code",
      "source": [
        "print(df['review_body'].dtype)"
      ],
      "metadata": {
        "colab": {
          "base_uri": "https://localhost:8080/"
        },
        "id": "uJoa7QBY2fCx",
        "outputId": "e363426a-e498-4da0-ee2a-9b8620bac7ed"
      },
      "execution_count": null,
      "outputs": [
        {
          "output_type": "stream",
          "name": "stdout",
          "text": [
            "object\n"
          ]
        }
      ]
    },
    {
      "cell_type": "code",
      "source": [
        "df['star_rating'] = df['star_rating'].astype(float).astype(int)\n",
        "df['review_body'] = df['review_body'].astype(str)"
      ],
      "metadata": {
        "id": "D6_qYsf23ZGi"
      },
      "execution_count": null,
      "outputs": []
    },
    {
      "cell_type": "code",
      "source": [
        "# Split the dataset into training and testing sets\n",
        "X_train, X_test, y_train, y_test = train_test_split(df['review_body'], df['sentiment'], test_size=0.2)\n",
        "\n",
        "# Convert the reviews into sequences\n",
        "tokenizer = Tokenizer(num_words=5000, oov_token='<OOV>')\n",
        "tokenizer.fit_on_texts(X_train)\n",
        "X_train = tokenizer.texts_to_sequences(X_train)\n",
        "X_test = tokenizer.texts_to_sequences(X_test)\n",
        "\n",
        "# Add padding to ensure all sequences have the same length\n",
        "X_train = pad_sequences(X_train, maxlen=100, padding='post', truncating='post')\n",
        "X_test = pad_sequences(X_test, maxlen=100, padding='post', truncating='post')\n",
        "\n",
        "# Build the LSTM model\n",
        "model = Sequential()\n",
        "model.add(Embedding(5000, 32, input_length=100))\n",
        "model.add(LSTM(32))\n",
        "model.add(Dense(1, activation='sigmoid'))\n",
        "\n",
        "# Compile the model\n",
        "model.compile(loss='binary_crossentropy', optimizer='adam', metrics=['accuracy'])\n",
        "\n",
        "# Train the model\n",
        "history = model.fit(X_train, y_train, epochs=15, batch_size=64, validation_data=(X_test, y_test))\n",
        "\n",
        "# Evaluate the model\n",
        "y_pred = model.predict(X_test)\n",
        "y_pred = np.round(y_pred).flatten()\n",
        "print(confusion_matrix(y_test, y_pred))\n",
        "print(classification_report(y_test, y_pred))\n"
      ],
      "metadata": {
        "id": "uaeixF2wJTAA",
        "colab": {
          "base_uri": "https://localhost:8080/"
        },
        "outputId": "e3497156-b19d-4d82-e867-e93183e7d654"
      },
      "execution_count": null,
      "outputs": [
        {
          "output_type": "stream",
          "name": "stdout",
          "text": [
            "Epoch 1/15\n",
            "6250/6250 [==============================] - 113s 18ms/step - loss: 0.5054 - accuracy: 0.7797 - val_loss: 0.4858 - val_accuracy: 0.7831\n",
            "Epoch 2/15\n",
            "6250/6250 [==============================] - 64s 10ms/step - loss: 0.5014 - accuracy: 0.7798 - val_loss: 0.5216 - val_accuracy: 0.7838\n",
            "Epoch 3/15\n",
            "6250/6250 [==============================] - 56s 9ms/step - loss: 0.4690 - accuracy: 0.8026 - val_loss: 0.4509 - val_accuracy: 0.7792\n",
            "Epoch 4/15\n",
            "6250/6250 [==============================] - 60s 10ms/step - loss: 0.4574 - accuracy: 0.8138 - val_loss: 0.4634 - val_accuracy: 0.8156\n",
            "Epoch 5/15\n",
            "6250/6250 [==============================] - 60s 10ms/step - loss: 0.4572 - accuracy: 0.8222 - val_loss: 0.4498 - val_accuracy: 0.8229\n",
            "Epoch 6/15\n",
            "6250/6250 [==============================] - 54s 9ms/step - loss: 0.4493 - accuracy: 0.8156 - val_loss: 0.4311 - val_accuracy: 0.8289\n",
            "Epoch 7/15\n",
            "6250/6250 [==============================] - 57s 9ms/step - loss: 0.4454 - accuracy: 0.8265 - val_loss: 0.4447 - val_accuracy: 0.8283\n",
            "Epoch 8/15\n",
            "6250/6250 [==============================] - 58s 9ms/step - loss: 0.4395 - accuracy: 0.8209 - val_loss: 0.4772 - val_accuracy: 0.8163\n",
            "Epoch 9/15\n",
            "6250/6250 [==============================] - 60s 10ms/step - loss: 0.4434 - accuracy: 0.8087 - val_loss: 0.4416 - val_accuracy: 0.8264\n",
            "Epoch 10/15\n",
            "6250/6250 [==============================] - 66s 10ms/step - loss: 0.4681 - accuracy: 0.8116 - val_loss: 0.4442 - val_accuracy: 0.8172\n",
            "Epoch 11/15\n",
            "6250/6250 [==============================] - 55s 9ms/step - loss: 0.4181 - accuracy: 0.8231 - val_loss: 0.3422 - val_accuracy: 0.8487\n",
            "Epoch 12/15\n",
            "6250/6250 [==============================] - 53s 9ms/step - loss: 0.3028 - accuracy: 0.8720 - val_loss: 0.2849 - val_accuracy: 0.8821\n",
            "Epoch 13/15\n",
            "6250/6250 [==============================] - 57s 9ms/step - loss: 0.2765 - accuracy: 0.8852 - val_loss: 0.2754 - val_accuracy: 0.8856\n",
            "Epoch 14/15\n",
            "6250/6250 [==============================] - 55s 9ms/step - loss: 0.2648 - accuracy: 0.8906 - val_loss: 0.2691 - val_accuracy: 0.8891\n",
            "Epoch 15/15\n",
            "6250/6250 [==============================] - 55s 9ms/step - loss: 0.2542 - accuracy: 0.8952 - val_loss: 0.2658 - val_accuracy: 0.8899\n",
            "3125/3125 [==============================] - 10s 3ms/step\n",
            "[[14294  7392]\n",
            " [ 3613 74700]]\n",
            "              precision    recall  f1-score   support\n",
            "\n",
            "           0       0.80      0.66      0.72     21686\n",
            "           1       0.91      0.95      0.93     78313\n",
            "\n",
            "    accuracy                           0.89     99999\n",
            "   macro avg       0.85      0.81      0.83     99999\n",
            "weighted avg       0.89      0.89      0.89     99999\n",
            "\n"
          ]
        }
      ]
    },
    {
      "cell_type": "markdown",
      "source": [
        "#Finding which products have received more number of positive feedback, and vice versa!"
      ],
      "metadata": {
        "id": "Of1r64u9Jgcr"
      }
    },
    {
      "cell_type": "code",
      "source": [
        "# Flatten X_test into a one-dimensional array\n",
        "X_test_1d = X_test.flatten()\n",
        "\n",
        "# Convert X_test to a DataFrame with the original review_body column\n",
        "X_test_df = pd.DataFrame({'review_body': X_test_1d})\n",
        "\n",
        "# Create a separate DataFrame for the predicted sentiment scores and product IDs\n",
        "y_pred_df = pd.DataFrame({'sentiment': y_pred})\n",
        "product_ids_df = pd.DataFrame({'product_id': df.loc[X_test_df.index, 'product_id'].values})\n",
        "\n",
        "# Concatenate the DataFrames\n",
        "result_df = pd.concat([X_test_df, y_pred_df, product_ids_df], axis=1)\n",
        "\n",
        "agg_df = result_df.groupby('product_id')['sentiment'].mean().reset_index()\n",
        "\n",
        "print(agg_df)\n",
        "\n",
        "# Not allowing me to run it"
      ],
      "metadata": {
        "id": "CfvNt1joJdPP"
      },
      "execution_count": null,
      "outputs": []
    },
    {
      "cell_type": "markdown",
      "source": [
        "## BERT"
      ],
      "metadata": {
        "id": "zaSLIof6GizY"
      }
    },
    {
      "cell_type": "code",
      "source": [
        "# dfbeauty = pd.read_pickle(\"data.pkl\")\n",
        "\n",
        "# sentdf = dfbooks[['product_parent','discipline', 'review_body', 'review_date', 'star_rating']]"
      ],
      "metadata": {
        "id": "liPqelprG4Ss"
      },
      "execution_count": null,
      "outputs": []
    },
    {
      "cell_type": "code",
      "source": [
        "# Install libraries and dependencies\n",
        "import tensorflow as tf\n",
        "num_gpus_available = len(tf.config.experimental.list_physical_devices('GPU'))\n",
        "print(\"Num GPUs Available: \", num_gpus_available)\n",
        "assert num_gpus_available > 0\n",
        "!pip install transformers\n",
        "from transformers import DistilBertTokenizerFast\n",
        "from transformers import TFDistilBertForSequenceClassification\n",
        "import pandas as pd\n",
        "import numpy as np"
      ],
      "metadata": {
        "colab": {
          "base_uri": "https://localhost:8080/"
        },
        "id": "FbLMTJyQGgOp",
        "outputId": "bd2ed21b-4f5c-46f2-de59-3410600bacf1"
      },
      "execution_count": null,
      "outputs": [
        {
          "output_type": "stream",
          "name": "stdout",
          "text": [
            "Num GPUs Available:  1\n",
            "Looking in indexes: https://pypi.org/simple, https://us-python.pkg.dev/colab-wheels/public/simple/\n",
            "Requirement already satisfied: transformers in /usr/local/lib/python3.10/dist-packages (4.28.1)\n",
            "Requirement already satisfied: filelock in /usr/local/lib/python3.10/dist-packages (from transformers) (3.12.0)\n",
            "Requirement already satisfied: huggingface-hub<1.0,>=0.11.0 in /usr/local/lib/python3.10/dist-packages (from transformers) (0.14.1)\n",
            "Requirement already satisfied: numpy>=1.17 in /usr/local/lib/python3.10/dist-packages (from transformers) (1.22.4)\n",
            "Requirement already satisfied: packaging>=20.0 in /usr/local/lib/python3.10/dist-packages (from transformers) (23.1)\n",
            "Requirement already satisfied: pyyaml>=5.1 in /usr/local/lib/python3.10/dist-packages (from transformers) (6.0)\n",
            "Requirement already satisfied: regex!=2019.12.17 in /usr/local/lib/python3.10/dist-packages (from transformers) (2022.10.31)\n",
            "Requirement already satisfied: requests in /usr/local/lib/python3.10/dist-packages (from transformers) (2.27.1)\n",
            "Requirement already satisfied: tokenizers!=0.11.3,<0.14,>=0.11.1 in /usr/local/lib/python3.10/dist-packages (from transformers) (0.13.3)\n",
            "Requirement already satisfied: tqdm>=4.27 in /usr/local/lib/python3.10/dist-packages (from transformers) (4.65.0)\n",
            "Requirement already satisfied: fsspec in /usr/local/lib/python3.10/dist-packages (from huggingface-hub<1.0,>=0.11.0->transformers) (2023.4.0)\n",
            "Requirement already satisfied: typing-extensions>=3.7.4.3 in /usr/local/lib/python3.10/dist-packages (from huggingface-hub<1.0,>=0.11.0->transformers) (4.5.0)\n",
            "Requirement already satisfied: urllib3<1.27,>=1.21.1 in /usr/local/lib/python3.10/dist-packages (from requests->transformers) (1.26.15)\n",
            "Requirement already satisfied: certifi>=2017.4.17 in /usr/local/lib/python3.10/dist-packages (from requests->transformers) (2022.12.7)\n",
            "Requirement already satisfied: charset-normalizer~=2.0.0 in /usr/local/lib/python3.10/dist-packages (from requests->transformers) (2.0.12)\n",
            "Requirement already satisfied: idna<4,>=2.5 in /usr/local/lib/python3.10/dist-packages (from requests->transformers) (3.4)\n"
          ]
        }
      ]
    },
    {
      "cell_type": "code",
      "source": [
        "df = pd.read_csv('df_clean1.csv')"
      ],
      "metadata": {
        "id": "b6k8QavL7XxX"
      },
      "execution_count": null,
      "outputs": []
    },
    {
      "cell_type": "code",
      "source": [
        "df.head()"
      ],
      "metadata": {
        "colab": {
          "base_uri": "https://localhost:8080/",
          "height": 565
        },
        "id": "YcEOgW2hAzgl",
        "outputId": "a41db265-0c04-4bfa-b10e-f0e9a5fff8b9"
      },
      "execution_count": null,
      "outputs": [
        {
          "output_type": "execute_result",
          "data": {
            "text/plain": [
              "  marketplace  customer_id       review_id  product_id  product_parent  \\\n",
              "0          US      2144007  R2NXX2SOXDCAIL  B000TBW0NA       854096552   \n",
              "1          US     23496484  R21HIXCSP7ZP6N  B00GQJR25A       256600215   \n",
              "2          US     50297424  R1YU6KE8MVMSAY  B010QXBXGU       261586866   \n",
              "3          US     20926165  R3POM2E1YTWWE8  B001TESDY6       808594229   \n",
              "4          US       930288  R2GAXR297KRXWM  B00DY860G8       541993171   \n",
              "\n",
              "                                       product_title product_category  \\\n",
              "0  opi avoplex nail cuticle replenishing oil flui...           Beauty   \n",
              "1                                  puffcuff original           Beauty   \n",
              "2  hot cold unscented eye pillow free eye mask sl...           Beauty   \n",
              "3  advanced revitalift antiaging glycolic minipee...           Beauty   \n",
              "4  joico smooth cure shampoo conditioner curly fr...           Beauty   \n",
              "\n",
              "   star_rating  helpful_votes  total_votes vine verified_purchase  \\\n",
              "0            5            2.0          2.0    N                 Y   \n",
              "1            5            0.0          1.0    N                 Y   \n",
              "2            5            0.0          0.0    N                 N   \n",
              "3            5            0.0          0.0    N                 Y   \n",
              "4            3            0.0          0.0    N                 N   \n",
              "\n",
              "                   review_headline  \\\n",
              "0                            stars   \n",
              "1                    great product   \n",
              "2  past days works great unscented   \n",
              "3                             best   \n",
              "4                      leaves film   \n",
              "\n",
              "                                         review_body review_date  sentiment  \n",
              "0                                 love nails growing  2015-08-04          1  \n",
              "1  perfect hair works great gather hair ponytail ...  2015-04-12          1  \n",
              "2  past days works great unscented silky fabric i...  2015-08-24          1  \n",
              "3  stopped selling stores heart broke thank goodn...  2013-07-02          1  \n",
              "4  dont know shampoo conditioner product leaves g...  2014-11-11          0  "
            ],
            "text/html": [
              "\n",
              "  <div id=\"df-cf35f297-f2cd-4d7e-92ab-6b75c3dd1049\">\n",
              "    <div class=\"colab-df-container\">\n",
              "      <div>\n",
              "<style scoped>\n",
              "    .dataframe tbody tr th:only-of-type {\n",
              "        vertical-align: middle;\n",
              "    }\n",
              "\n",
              "    .dataframe tbody tr th {\n",
              "        vertical-align: top;\n",
              "    }\n",
              "\n",
              "    .dataframe thead th {\n",
              "        text-align: right;\n",
              "    }\n",
              "</style>\n",
              "<table border=\"1\" class=\"dataframe\">\n",
              "  <thead>\n",
              "    <tr style=\"text-align: right;\">\n",
              "      <th></th>\n",
              "      <th>marketplace</th>\n",
              "      <th>customer_id</th>\n",
              "      <th>review_id</th>\n",
              "      <th>product_id</th>\n",
              "      <th>product_parent</th>\n",
              "      <th>product_title</th>\n",
              "      <th>product_category</th>\n",
              "      <th>star_rating</th>\n",
              "      <th>helpful_votes</th>\n",
              "      <th>total_votes</th>\n",
              "      <th>vine</th>\n",
              "      <th>verified_purchase</th>\n",
              "      <th>review_headline</th>\n",
              "      <th>review_body</th>\n",
              "      <th>review_date</th>\n",
              "      <th>sentiment</th>\n",
              "    </tr>\n",
              "  </thead>\n",
              "  <tbody>\n",
              "    <tr>\n",
              "      <th>0</th>\n",
              "      <td>US</td>\n",
              "      <td>2144007</td>\n",
              "      <td>R2NXX2SOXDCAIL</td>\n",
              "      <td>B000TBW0NA</td>\n",
              "      <td>854096552</td>\n",
              "      <td>opi avoplex nail cuticle replenishing oil flui...</td>\n",
              "      <td>Beauty</td>\n",
              "      <td>5</td>\n",
              "      <td>2.0</td>\n",
              "      <td>2.0</td>\n",
              "      <td>N</td>\n",
              "      <td>Y</td>\n",
              "      <td>stars</td>\n",
              "      <td>love nails growing</td>\n",
              "      <td>2015-08-04</td>\n",
              "      <td>1</td>\n",
              "    </tr>\n",
              "    <tr>\n",
              "      <th>1</th>\n",
              "      <td>US</td>\n",
              "      <td>23496484</td>\n",
              "      <td>R21HIXCSP7ZP6N</td>\n",
              "      <td>B00GQJR25A</td>\n",
              "      <td>256600215</td>\n",
              "      <td>puffcuff original</td>\n",
              "      <td>Beauty</td>\n",
              "      <td>5</td>\n",
              "      <td>0.0</td>\n",
              "      <td>1.0</td>\n",
              "      <td>N</td>\n",
              "      <td>Y</td>\n",
              "      <td>great product</td>\n",
              "      <td>perfect hair works great gather hair ponytail ...</td>\n",
              "      <td>2015-04-12</td>\n",
              "      <td>1</td>\n",
              "    </tr>\n",
              "    <tr>\n",
              "      <th>2</th>\n",
              "      <td>US</td>\n",
              "      <td>50297424</td>\n",
              "      <td>R1YU6KE8MVMSAY</td>\n",
              "      <td>B010QXBXGU</td>\n",
              "      <td>261586866</td>\n",
              "      <td>hot cold unscented eye pillow free eye mask sl...</td>\n",
              "      <td>Beauty</td>\n",
              "      <td>5</td>\n",
              "      <td>0.0</td>\n",
              "      <td>0.0</td>\n",
              "      <td>N</td>\n",
              "      <td>N</td>\n",
              "      <td>past days works great unscented</td>\n",
              "      <td>past days works great unscented silky fabric i...</td>\n",
              "      <td>2015-08-24</td>\n",
              "      <td>1</td>\n",
              "    </tr>\n",
              "    <tr>\n",
              "      <th>3</th>\n",
              "      <td>US</td>\n",
              "      <td>20926165</td>\n",
              "      <td>R3POM2E1YTWWE8</td>\n",
              "      <td>B001TESDY6</td>\n",
              "      <td>808594229</td>\n",
              "      <td>advanced revitalift antiaging glycolic minipee...</td>\n",
              "      <td>Beauty</td>\n",
              "      <td>5</td>\n",
              "      <td>0.0</td>\n",
              "      <td>0.0</td>\n",
              "      <td>N</td>\n",
              "      <td>Y</td>\n",
              "      <td>best</td>\n",
              "      <td>stopped selling stores heart broke thank goodn...</td>\n",
              "      <td>2013-07-02</td>\n",
              "      <td>1</td>\n",
              "    </tr>\n",
              "    <tr>\n",
              "      <th>4</th>\n",
              "      <td>US</td>\n",
              "      <td>930288</td>\n",
              "      <td>R2GAXR297KRXWM</td>\n",
              "      <td>B00DY860G8</td>\n",
              "      <td>541993171</td>\n",
              "      <td>joico smooth cure shampoo conditioner curly fr...</td>\n",
              "      <td>Beauty</td>\n",
              "      <td>3</td>\n",
              "      <td>0.0</td>\n",
              "      <td>0.0</td>\n",
              "      <td>N</td>\n",
              "      <td>N</td>\n",
              "      <td>leaves film</td>\n",
              "      <td>dont know shampoo conditioner product leaves g...</td>\n",
              "      <td>2014-11-11</td>\n",
              "      <td>0</td>\n",
              "    </tr>\n",
              "  </tbody>\n",
              "</table>\n",
              "</div>\n",
              "      <button class=\"colab-df-convert\" onclick=\"convertToInteractive('df-cf35f297-f2cd-4d7e-92ab-6b75c3dd1049')\"\n",
              "              title=\"Convert this dataframe to an interactive table.\"\n",
              "              style=\"display:none;\">\n",
              "        \n",
              "  <svg xmlns=\"http://www.w3.org/2000/svg\" height=\"24px\"viewBox=\"0 0 24 24\"\n",
              "       width=\"24px\">\n",
              "    <path d=\"M0 0h24v24H0V0z\" fill=\"none\"/>\n",
              "    <path d=\"M18.56 5.44l.94 2.06.94-2.06 2.06-.94-2.06-.94-.94-2.06-.94 2.06-2.06.94zm-11 1L8.5 8.5l.94-2.06 2.06-.94-2.06-.94L8.5 2.5l-.94 2.06-2.06.94zm10 10l.94 2.06.94-2.06 2.06-.94-2.06-.94-.94-2.06-.94 2.06-2.06.94z\"/><path d=\"M17.41 7.96l-1.37-1.37c-.4-.4-.92-.59-1.43-.59-.52 0-1.04.2-1.43.59L10.3 9.45l-7.72 7.72c-.78.78-.78 2.05 0 2.83L4 21.41c.39.39.9.59 1.41.59.51 0 1.02-.2 1.41-.59l7.78-7.78 2.81-2.81c.8-.78.8-2.07 0-2.86zM5.41 20L4 18.59l7.72-7.72 1.47 1.35L5.41 20z\"/>\n",
              "  </svg>\n",
              "      </button>\n",
              "      \n",
              "  <style>\n",
              "    .colab-df-container {\n",
              "      display:flex;\n",
              "      flex-wrap:wrap;\n",
              "      gap: 12px;\n",
              "    }\n",
              "\n",
              "    .colab-df-convert {\n",
              "      background-color: #E8F0FE;\n",
              "      border: none;\n",
              "      border-radius: 50%;\n",
              "      cursor: pointer;\n",
              "      display: none;\n",
              "      fill: #1967D2;\n",
              "      height: 32px;\n",
              "      padding: 0 0 0 0;\n",
              "      width: 32px;\n",
              "    }\n",
              "\n",
              "    .colab-df-convert:hover {\n",
              "      background-color: #E2EBFA;\n",
              "      box-shadow: 0px 1px 2px rgba(60, 64, 67, 0.3), 0px 1px 3px 1px rgba(60, 64, 67, 0.15);\n",
              "      fill: #174EA6;\n",
              "    }\n",
              "\n",
              "    [theme=dark] .colab-df-convert {\n",
              "      background-color: #3B4455;\n",
              "      fill: #D2E3FC;\n",
              "    }\n",
              "\n",
              "    [theme=dark] .colab-df-convert:hover {\n",
              "      background-color: #434B5C;\n",
              "      box-shadow: 0px 1px 3px 1px rgba(0, 0, 0, 0.15);\n",
              "      filter: drop-shadow(0px 1px 2px rgba(0, 0, 0, 0.3));\n",
              "      fill: #FFFFFF;\n",
              "    }\n",
              "  </style>\n",
              "\n",
              "      <script>\n",
              "        const buttonEl =\n",
              "          document.querySelector('#df-cf35f297-f2cd-4d7e-92ab-6b75c3dd1049 button.colab-df-convert');\n",
              "        buttonEl.style.display =\n",
              "          google.colab.kernel.accessAllowed ? 'block' : 'none';\n",
              "\n",
              "        async function convertToInteractive(key) {\n",
              "          const element = document.querySelector('#df-cf35f297-f2cd-4d7e-92ab-6b75c3dd1049');\n",
              "          const dataTable =\n",
              "            await google.colab.kernel.invokeFunction('convertToInteractive',\n",
              "                                                     [key], {});\n",
              "          if (!dataTable) return;\n",
              "\n",
              "          const docLinkHtml = 'Like what you see? Visit the ' +\n",
              "            '<a target=\"_blank\" href=https://colab.research.google.com/notebooks/data_table.ipynb>data table notebook</a>'\n",
              "            + ' to learn more about interactive tables.';\n",
              "          element.innerHTML = '';\n",
              "          dataTable['output_type'] = 'display_data';\n",
              "          await google.colab.output.renderOutput(dataTable, element);\n",
              "          const docLink = document.createElement('div');\n",
              "          docLink.innerHTML = docLinkHtml;\n",
              "          element.appendChild(docLink);\n",
              "        }\n",
              "      </script>\n",
              "    </div>\n",
              "  </div>\n",
              "  "
            ]
          },
          "metadata": {},
          "execution_count": 4
        }
      ]
    },
    {
      "cell_type": "code",
      "source": [
        "df.isnull().sum()"
      ],
      "metadata": {
        "colab": {
          "base_uri": "https://localhost:8080/"
        },
        "id": "N1bWNOA8HDc6",
        "outputId": "117422d5-080f-4c54-d0bd-f8a92329554c"
      },
      "execution_count": null,
      "outputs": [
        {
          "output_type": "execute_result",
          "data": {
            "text/plain": [
              "marketplace             0\n",
              "customer_id             0\n",
              "review_id               0\n",
              "product_id              0\n",
              "product_parent          0\n",
              "product_title         683\n",
              "product_category        0\n",
              "star_rating             0\n",
              "helpful_votes           0\n",
              "total_votes             0\n",
              "vine                    0\n",
              "verified_purchase       0\n",
              "review_headline      3879\n",
              "review_body           748\n",
              "review_date             0\n",
              "sentiment               0\n",
              "dtype: int64"
            ]
          },
          "metadata": {},
          "execution_count": 5
        }
      ]
    },
    {
      "cell_type": "code",
      "source": [
        "df = df.dropna()"
      ],
      "metadata": {
        "id": "jKXwmvU8HM3Y"
      },
      "execution_count": null,
      "outputs": []
    },
    {
      "cell_type": "code",
      "source": [
        "df.isnull().sum()"
      ],
      "metadata": {
        "colab": {
          "base_uri": "https://localhost:8080/"
        },
        "id": "goE2ex6RHXek",
        "outputId": "ddb2ae93-e8d5-47fa-f996-95a2a17e4809"
      },
      "execution_count": null,
      "outputs": [
        {
          "output_type": "execute_result",
          "data": {
            "text/plain": [
              "marketplace          0\n",
              "customer_id          0\n",
              "review_id            0\n",
              "product_id           0\n",
              "product_parent       0\n",
              "product_title        0\n",
              "product_category     0\n",
              "star_rating          0\n",
              "helpful_votes        0\n",
              "total_votes          0\n",
              "vine                 0\n",
              "verified_purchase    0\n",
              "review_headline      0\n",
              "review_body          0\n",
              "review_date          0\n",
              "sentiment            0\n",
              "dtype: int64"
            ]
          },
          "metadata": {},
          "execution_count": 7
        }
      ]
    },
    {
      "cell_type": "code",
      "source": [
        "from transformers import BertTokenizer\n",
        "from transformers import TFBertForSequenceClassification\n",
        "\n",
        "# Split the data into train and test sets\n",
        "train_df = df.sample(frac=0.8, random_state=42)\n",
        "test_df = df.drop(train_df.index)\n",
        "\n",
        "# Load the BERT tokenizer\n",
        "tokenizer = BertTokenizer.from_pretrained('bert-base-uncased')\n",
        "\n",
        "# Tokenize the data\n",
        "def tokenize_data(texts, tokenizer, max_length):\n",
        "    input_ids = []\n",
        "    attention_masks = []\n",
        "\n",
        "    for text in texts:\n",
        "        encoded = tokenizer.encode_plus(\n",
        "            text,\n",
        "            add_special_tokens=True,\n",
        "            max_length=max_length,\n",
        "            pad_to_max_length=True,\n",
        "            return_attention_mask=True,\n",
        "            return_tensors='tf'\n",
        "        )\n",
        "\n",
        "        input_ids.append(encoded['input_ids'])\n",
        "        attention_masks.append(encoded['attention_mask'])\n",
        "\n",
        "    return tf.convert_to_tensor(input_ids), tf.convert_to_tensor(attention_masks)\n",
        "\n",
        "max_length = 128\n",
        "\n",
        "# Tokenize the train and test data\n",
        "x_train, y_train = tokenize_data(train_df['review_body'].tolist(), tokenizer, max_length), train_df['sentiment'].tolist()\n",
        "x_test, y_test = tokenize_data(test_df['review_body'].tolist(), tokenizer, max_length), test_df['sentiment'].tolist()\n",
        "\n",
        "# Load the BERT model\n",
        "model = TFBertForSequenceClassification.from_pretrained('bert-base-uncased', num_labels=2)\n",
        "\n",
        "# Compile the model\n",
        "optimizer = tf.keras.optimizers.Adam(learning_rate=5e-5, epsilon=1e-08)\n",
        "model.compile(optimizer=optimizer, loss=model.compute_loss, metrics=['accuracy'])\n",
        "\n",
        "# Train the model\n",
        "model.fit(x_train, y_train, validation_data=(x_test, y_test), epochs=3, batch_size=16)\n",
        "\n",
        "# Evaluate the model\n",
        "model.evaluate(x_test, y_test)\n"
      ],
      "metadata": {
        "colab": {
          "base_uri": "https://localhost:8080/"
        },
        "id": "PTDKiRd4LJRQ",
        "outputId": "cf4c9b90-56ac-441f-8d2f-458f8762dcd9"
      },
      "execution_count": null,
      "outputs": [
        {
          "output_type": "stream",
          "name": "stderr",
          "text": [
            "Truncation was not explicitly activated but `max_length` is provided a specific value, please use `truncation=True` to explicitly truncate examples to max length. Defaulting to 'longest_first' truncation strategy. If you encode pairs of sequences (GLUE-style) with the tokenizer you can select this strategy more precisely by providing a specific strategy to `truncation`.\n"
          ]
        }
      ]
    },
    {
      "cell_type": "code",
      "source": [
        "reviews = df['review_body'].values.tolist()\n",
        "labels = df['sentiment'].tolist()"
      ],
      "metadata": {
        "id": "8XuX6UDQ5Mfe"
      },
      "execution_count": null,
      "outputs": []
    },
    {
      "cell_type": "markdown",
      "source": [
        "# Split data"
      ],
      "metadata": {
        "id": "B_OIDuKQ51nF"
      }
    },
    {
      "cell_type": "code",
      "source": [
        "from sklearn.model_selection import train_test_split\n",
        "training_sentences, validation_sentences, training_labels, validation_labels = train_test_split(reviews, labels, test_size=.2)"
      ],
      "metadata": {
        "id": "Rj1ADRtB5rLR"
      },
      "execution_count": null,
      "outputs": []
    },
    {
      "cell_type": "code",
      "source": [
        "# Convert training sentences to list of strings\n",
        "training_sentences = [str(sentence) for sentence in training_sentences]\n",
        "validation_sentences = [str(sentence) for sentence in validation_sentences]\n",
        "\n",
        "# Check the length of the training sentences\n",
        "print(\"Number of training sentences: \", len(training_sentences))"
      ],
      "metadata": {
        "colab": {
          "base_uri": "https://localhost:8080/"
        },
        "id": "nweISKp_CvPi",
        "outputId": "5dc4651b-5b97-4b11-dae3-20a68bc27db6"
      },
      "execution_count": null,
      "outputs": [
        {
          "output_type": "stream",
          "name": "stdout",
          "text": [
            "Number of training sentences:  395772\n"
          ]
        }
      ]
    },
    {
      "cell_type": "code",
      "source": [
        "#Assign tokenizer object to the tokenizer class\n",
        "tokenizer = DistilBertTokenizerFast.from_pretrained('distilbert-base-uncased')\n",
        "tokenizer([training_sentences[0]], truncation=True,\n",
        "\n",
        "                            padding=True, max_length=128)"
      ],
      "metadata": {
        "colab": {
          "base_uri": "https://localhost:8080/"
        },
        "id": "w6hIucsr5u7r",
        "outputId": "6e5332ad-1e3e-490a-8bcd-23c480e2ee49"
      },
      "execution_count": null,
      "outputs": [
        {
          "output_type": "execute_result",
          "data": {
            "text/plain": [
              "{'input_ids': [[101, 3728, 4156, 4031, 2303, 12831, 3688, 2293, 2307, 3976, 2307, 3643, 102]], 'attention_mask': [[1, 1, 1, 1, 1, 1, 1, 1, 1, 1, 1, 1, 1]]}"
            ]
          },
          "metadata": {},
          "execution_count": 32
        }
      ]
    },
    {
      "cell_type": "markdown",
      "source": [
        "Tensor API"
      ],
      "metadata": {
        "id": "GB44pR5L56rj"
      }
    },
    {
      "cell_type": "code",
      "source": [
        "train_encodings = tokenizer(training_sentences,\n",
        "                            truncation=True,\n",
        "                            padding=True)\n",
        "val_encodings = tokenizer(validation_sentences,\n",
        "                            truncation=True,\n",
        "                            padding=True)\n",
        "train_dataset = tf.data.Dataset.from_tensor_slices((\n",
        "                            dict(train_encodings),\n",
        "                            training_labels\n",
        "                            ))\n",
        "val_dataset = tf.data.Dataset.from_tensor_slices((\n",
        "                            dict(val_encodings),\n",
        "                            validation_labels\n",
        "                            ))"
      ],
      "metadata": {
        "id": "k9HnmSG_55NK"
      },
      "execution_count": null,
      "outputs": []
    },
    {
      "cell_type": "markdown",
      "source": [
        "# Model Training & Optimization"
      ],
      "metadata": {
        "id": "9Q7v-wju6A-b"
      }
    },
    {
      "cell_type": "code",
      "source": [
        "model = TFDistilBertForSequenceClassification.from_pretrained('distilbert-base-uncased',num_labels=2)"
      ],
      "metadata": {
        "id": "s_ODtNre6Ani"
      },
      "execution_count": null,
      "outputs": []
    },
    {
      "cell_type": "code",
      "source": [
        "# FROM JUPYTER\n",
        "optimizer = tf.keras.optimizers.Adam(learning_rate=5e-5, epsilon=1e-08)\n",
        "def custom_loss(y_true, y_pred):\n",
        "    mask = tf.math.logical_not(tf.math.equal(y_true, 0))\n",
        "    loss = tf.keras.losses.sparse_categorical_crossentropy(y_true, y_pred, from_logits=True)\n",
        "    mask = tf.cast(mask, dtype=loss.dtype)\n",
        "    loss *= mask\n",
        "    return tf.reduce_mean(loss)\n",
        "model.compile(optimizer=optimizer, loss=custom_loss, metrics=['accuracy'])\n",
        "model.fit(train_dataset.shuffle(100).batch(16),\n",
        "          epochs=2,\n",
        "          batch_size=16,\n",
        "          validation_data=val_dataset.shuffle(100).batch(16))"
      ],
      "metadata": {
        "id": "kJ3GiaUf6G74"
      },
      "execution_count": null,
      "outputs": []
    },
    {
      "cell_type": "code",
      "source": [
        "model.save_pretrained(\"./sentiment\")\n",
        "loaded_model = TFDistilBertForSequenceClassification.from_pretrained(\"./sentiment\")"
      ],
      "metadata": {
        "id": "nxIMTztb6OwP"
      },
      "execution_count": null,
      "outputs": []
    }
  ]
}